{
 "cells": [
  {
   "cell_type": "code",
   "execution_count": 77,
   "metadata": {
    "colab": {},
    "colab_type": "code",
    "id": "s-BCZvwqI7jI"
   },
   "outputs": [
    {
     "name": "stderr",
     "output_type": "stream",
     "text": [
      "Using TensorFlow backend.\n"
     ]
    }
   ],
   "source": [
    "import warnings\n",
    "warnings.filterwarnings('ignore')\n",
    "from IPython.display import Image\n",
    "\n",
    "#Libraries used\n",
    "import pandas as pd\n",
    "import numpy as np\n",
    "import matplotlib.pyplot as plt\n",
    "import seaborn as sns\n",
    "#sns.set_style(\"darkgrid\")\n",
    "\n",
    "# Classifier Libraries\n",
    "from sklearn.linear_model import LogisticRegression\n",
    "from sklearn.svm import LinearSVC\n",
    "from sklearn.neighbors import KNeighborsClassifier\n",
    "from sklearn.tree import DecisionTreeClassifier\n",
    "from sklearn.ensemble import RandomForestClassifier\n",
    "from sklearn.ensemble import GradientBoostingClassifier\n",
    "from xgboost import XGBClassifier\n",
    "import collections\n",
    "\n",
    "\n",
    "from imblearn.under_sampling import RandomUnderSampler\n",
    "from sklearn.preprocessing import MinMaxScaler, RobustScaler\n",
    "from sklearn.model_selection import StratifiedKFold, train_test_split, cross_val_score, GridSearchCV, RandomizedSearchCV\n",
    "from sklearn.model_selection import learning_curve\n",
    "from sklearn.model_selection import ShuffleSplit\n",
    "from sklearn.model_selection import train_test_split\n",
    "from sklearn.pipeline import make_pipeline\n",
    "from imblearn.pipeline import make_pipeline as imbalanced_make_pipeline\n",
    "from imblearn.over_sampling import SMOTE\n",
    "from imblearn.under_sampling import NearMiss\n",
    "from scipy.stats import norm\n",
    "from sklearn.metrics import precision_score, recall_score, f1_score, roc_auc_score\n",
    "from sklearn.model_selection import cross_val_predict\n",
    "from sklearn.metrics import roc_auc_score, roc_curve\n",
    "from sklearn.metrics import classification_report\n",
    "from sklearn.metrics import accuracy_score\n",
    "\n",
    "import keras\n",
    "from keras.models import Sequential\n",
    "from keras.layers import Activation\n",
    "from keras.layers.core import Dense\n",
    "from keras.optimizers import Adam\n",
    "from keras.metrics import categorical_crossentropy\n",
    "pd.set_option(\"display.max_columns\", 999)\n",
    "pd.get_option(\"display.max_columns\")\n",
    "\n",
    "pd.set_option(\"display.max_rows\", 999)\n",
    "pd.get_option(\"display.max_rows\")\n",
    "\n",
    "%matplotlib inline"
   ]
  },
  {
   "cell_type": "code",
   "execution_count": 2,
   "metadata": {},
   "outputs": [
    {
     "data": {
      "text/html": [
       "<div>\n",
       "<style scoped>\n",
       "    .dataframe tbody tr th:only-of-type {\n",
       "        vertical-align: middle;\n",
       "    }\n",
       "\n",
       "    .dataframe tbody tr th {\n",
       "        vertical-align: top;\n",
       "    }\n",
       "\n",
       "    .dataframe thead th {\n",
       "        text-align: right;\n",
       "    }\n",
       "</style>\n",
       "<table border=\"1\" class=\"dataframe\">\n",
       "  <thead>\n",
       "    <tr style=\"text-align: right;\">\n",
       "      <th></th>\n",
       "      <th>SK_ID_CURR</th>\n",
       "      <th>TARGET</th>\n",
       "      <th>NAME_CONTRACT_TYPE</th>\n",
       "      <th>CODE_GENDER</th>\n",
       "      <th>FLAG_OWN_CAR</th>\n",
       "      <th>FLAG_OWN_REALTY</th>\n",
       "      <th>CNT_CHILDREN</th>\n",
       "      <th>AMT_INCOME_TOTAL</th>\n",
       "      <th>AMT_CREDIT</th>\n",
       "      <th>AMT_ANNUITY</th>\n",
       "      <th>...</th>\n",
       "      <th>FLAG_DOCUMENT_18</th>\n",
       "      <th>FLAG_DOCUMENT_19</th>\n",
       "      <th>FLAG_DOCUMENT_20</th>\n",
       "      <th>FLAG_DOCUMENT_21</th>\n",
       "      <th>AMT_REQ_CREDIT_BUREAU_HOUR</th>\n",
       "      <th>AMT_REQ_CREDIT_BUREAU_DAY</th>\n",
       "      <th>AMT_REQ_CREDIT_BUREAU_WEEK</th>\n",
       "      <th>AMT_REQ_CREDIT_BUREAU_MON</th>\n",
       "      <th>AMT_REQ_CREDIT_BUREAU_QRT</th>\n",
       "      <th>AMT_REQ_CREDIT_BUREAU_YEAR</th>\n",
       "    </tr>\n",
       "  </thead>\n",
       "  <tbody>\n",
       "    <tr>\n",
       "      <th>0</th>\n",
       "      <td>100002</td>\n",
       "      <td>1</td>\n",
       "      <td>Cash loans</td>\n",
       "      <td>M</td>\n",
       "      <td>N</td>\n",
       "      <td>Y</td>\n",
       "      <td>0</td>\n",
       "      <td>202500.0</td>\n",
       "      <td>406597.5</td>\n",
       "      <td>24700.5</td>\n",
       "      <td>...</td>\n",
       "      <td>0</td>\n",
       "      <td>0</td>\n",
       "      <td>0</td>\n",
       "      <td>0</td>\n",
       "      <td>0.0</td>\n",
       "      <td>0.0</td>\n",
       "      <td>0.0</td>\n",
       "      <td>0.0</td>\n",
       "      <td>0.0</td>\n",
       "      <td>1.0</td>\n",
       "    </tr>\n",
       "    <tr>\n",
       "      <th>1</th>\n",
       "      <td>100003</td>\n",
       "      <td>0</td>\n",
       "      <td>Cash loans</td>\n",
       "      <td>F</td>\n",
       "      <td>N</td>\n",
       "      <td>N</td>\n",
       "      <td>0</td>\n",
       "      <td>270000.0</td>\n",
       "      <td>1293502.5</td>\n",
       "      <td>35698.5</td>\n",
       "      <td>...</td>\n",
       "      <td>0</td>\n",
       "      <td>0</td>\n",
       "      <td>0</td>\n",
       "      <td>0</td>\n",
       "      <td>0.0</td>\n",
       "      <td>0.0</td>\n",
       "      <td>0.0</td>\n",
       "      <td>0.0</td>\n",
       "      <td>0.0</td>\n",
       "      <td>0.0</td>\n",
       "    </tr>\n",
       "    <tr>\n",
       "      <th>2</th>\n",
       "      <td>100004</td>\n",
       "      <td>0</td>\n",
       "      <td>Revolving loans</td>\n",
       "      <td>M</td>\n",
       "      <td>Y</td>\n",
       "      <td>Y</td>\n",
       "      <td>0</td>\n",
       "      <td>67500.0</td>\n",
       "      <td>135000.0</td>\n",
       "      <td>6750.0</td>\n",
       "      <td>...</td>\n",
       "      <td>0</td>\n",
       "      <td>0</td>\n",
       "      <td>0</td>\n",
       "      <td>0</td>\n",
       "      <td>0.0</td>\n",
       "      <td>0.0</td>\n",
       "      <td>0.0</td>\n",
       "      <td>0.0</td>\n",
       "      <td>0.0</td>\n",
       "      <td>0.0</td>\n",
       "    </tr>\n",
       "    <tr>\n",
       "      <th>3</th>\n",
       "      <td>100006</td>\n",
       "      <td>0</td>\n",
       "      <td>Cash loans</td>\n",
       "      <td>F</td>\n",
       "      <td>N</td>\n",
       "      <td>Y</td>\n",
       "      <td>0</td>\n",
       "      <td>135000.0</td>\n",
       "      <td>312682.5</td>\n",
       "      <td>29686.5</td>\n",
       "      <td>...</td>\n",
       "      <td>0</td>\n",
       "      <td>0</td>\n",
       "      <td>0</td>\n",
       "      <td>0</td>\n",
       "      <td>NaN</td>\n",
       "      <td>NaN</td>\n",
       "      <td>NaN</td>\n",
       "      <td>NaN</td>\n",
       "      <td>NaN</td>\n",
       "      <td>NaN</td>\n",
       "    </tr>\n",
       "    <tr>\n",
       "      <th>4</th>\n",
       "      <td>100007</td>\n",
       "      <td>0</td>\n",
       "      <td>Cash loans</td>\n",
       "      <td>M</td>\n",
       "      <td>N</td>\n",
       "      <td>Y</td>\n",
       "      <td>0</td>\n",
       "      <td>121500.0</td>\n",
       "      <td>513000.0</td>\n",
       "      <td>21865.5</td>\n",
       "      <td>...</td>\n",
       "      <td>0</td>\n",
       "      <td>0</td>\n",
       "      <td>0</td>\n",
       "      <td>0</td>\n",
       "      <td>0.0</td>\n",
       "      <td>0.0</td>\n",
       "      <td>0.0</td>\n",
       "      <td>0.0</td>\n",
       "      <td>0.0</td>\n",
       "      <td>0.0</td>\n",
       "    </tr>\n",
       "  </tbody>\n",
       "</table>\n",
       "<p>5 rows × 122 columns</p>\n",
       "</div>"
      ],
      "text/plain": [
       "   SK_ID_CURR  TARGET NAME_CONTRACT_TYPE CODE_GENDER FLAG_OWN_CAR  \\\n",
       "0      100002       1         Cash loans           M            N   \n",
       "1      100003       0         Cash loans           F            N   \n",
       "2      100004       0    Revolving loans           M            Y   \n",
       "3      100006       0         Cash loans           F            N   \n",
       "4      100007       0         Cash loans           M            N   \n",
       "\n",
       "  FLAG_OWN_REALTY  CNT_CHILDREN  AMT_INCOME_TOTAL  AMT_CREDIT  AMT_ANNUITY  \\\n",
       "0               Y             0          202500.0    406597.5      24700.5   \n",
       "1               N             0          270000.0   1293502.5      35698.5   \n",
       "2               Y             0           67500.0    135000.0       6750.0   \n",
       "3               Y             0          135000.0    312682.5      29686.5   \n",
       "4               Y             0          121500.0    513000.0      21865.5   \n",
       "\n",
       "   ...  FLAG_DOCUMENT_18 FLAG_DOCUMENT_19 FLAG_DOCUMENT_20 FLAG_DOCUMENT_21  \\\n",
       "0  ...                 0                0                0                0   \n",
       "1  ...                 0                0                0                0   \n",
       "2  ...                 0                0                0                0   \n",
       "3  ...                 0                0                0                0   \n",
       "4  ...                 0                0                0                0   \n",
       "\n",
       "  AMT_REQ_CREDIT_BUREAU_HOUR AMT_REQ_CREDIT_BUREAU_DAY  \\\n",
       "0                        0.0                       0.0   \n",
       "1                        0.0                       0.0   \n",
       "2                        0.0                       0.0   \n",
       "3                        NaN                       NaN   \n",
       "4                        0.0                       0.0   \n",
       "\n",
       "   AMT_REQ_CREDIT_BUREAU_WEEK  AMT_REQ_CREDIT_BUREAU_MON  \\\n",
       "0                         0.0                        0.0   \n",
       "1                         0.0                        0.0   \n",
       "2                         0.0                        0.0   \n",
       "3                         NaN                        NaN   \n",
       "4                         0.0                        0.0   \n",
       "\n",
       "   AMT_REQ_CREDIT_BUREAU_QRT  AMT_REQ_CREDIT_BUREAU_YEAR  \n",
       "0                        0.0                         1.0  \n",
       "1                        0.0                         0.0  \n",
       "2                        0.0                         0.0  \n",
       "3                        NaN                         NaN  \n",
       "4                        0.0                         0.0  \n",
       "\n",
       "[5 rows x 122 columns]"
      ]
     },
     "execution_count": 2,
     "metadata": {},
     "output_type": "execute_result"
    }
   ],
   "source": [
    "df = pd.read_csv(\"application_train.csv\")\n",
    "df.head()"
   ]
  },
  {
   "cell_type": "code",
   "execution_count": 3,
   "metadata": {
    "colab": {
     "base_uri": "https://localhost:8080/",
     "height": 34
    },
    "colab_type": "code",
    "id": "AtSYaYI7Tgi7",
    "outputId": "0cf302b7-15a9-49bd-cdab-1c07bd979f7a"
   },
   "outputs": [
    {
     "data": {
      "text/plain": [
       "(307511, 122)"
      ]
     },
     "execution_count": 3,
     "metadata": {},
     "output_type": "execute_result"
    }
   ],
   "source": [
    "df.shape"
   ]
  },
  {
   "cell_type": "code",
   "execution_count": 4,
   "metadata": {
    "colab": {},
    "colab_type": "code",
    "id": "rZT5L8Yy1By-"
   },
   "outputs": [],
   "source": [
    "#Check for categoical columns with numbers before one hot encoding\n",
    "categorical_columns=(df[df.columns].nunique()<10) & (df[df.columns].nunique()>2)\n",
    "categorical_columns=pd.DataFrame(categorical_columns)"
   ]
  },
  {
   "cell_type": "code",
   "execution_count": 5,
   "metadata": {
    "colab": {
     "base_uri": "https://localhost:8080/",
     "height": 195
    },
    "colab_type": "code",
    "id": "J3XXFG6Gew-2",
    "outputId": "86d8e571-af6d-40cb-a917-3091fd708aed"
   },
   "outputs": [
    {
     "data": {
      "text/html": [
       "<div>\n",
       "<style scoped>\n",
       "    .dataframe tbody tr th:only-of-type {\n",
       "        vertical-align: middle;\n",
       "    }\n",
       "\n",
       "    .dataframe tbody tr th {\n",
       "        vertical-align: top;\n",
       "    }\n",
       "\n",
       "    .dataframe thead th {\n",
       "        text-align: right;\n",
       "    }\n",
       "</style>\n",
       "<table border=\"1\" class=\"dataframe\">\n",
       "  <thead>\n",
       "    <tr style=\"text-align: right;\">\n",
       "      <th></th>\n",
       "      <th>Unique&lt;10</th>\n",
       "      <th>Not object</th>\n",
       "    </tr>\n",
       "  </thead>\n",
       "  <tbody>\n",
       "    <tr>\n",
       "      <th>SK_ID_CURR</th>\n",
       "      <td>False</td>\n",
       "      <td>True</td>\n",
       "    </tr>\n",
       "    <tr>\n",
       "      <th>TARGET</th>\n",
       "      <td>False</td>\n",
       "      <td>True</td>\n",
       "    </tr>\n",
       "    <tr>\n",
       "      <th>NAME_CONTRACT_TYPE</th>\n",
       "      <td>False</td>\n",
       "      <td>False</td>\n",
       "    </tr>\n",
       "    <tr>\n",
       "      <th>CODE_GENDER</th>\n",
       "      <td>True</td>\n",
       "      <td>False</td>\n",
       "    </tr>\n",
       "    <tr>\n",
       "      <th>FLAG_OWN_CAR</th>\n",
       "      <td>False</td>\n",
       "      <td>False</td>\n",
       "    </tr>\n",
       "  </tbody>\n",
       "</table>\n",
       "</div>"
      ],
      "text/plain": [
       "                    Unique<10  Not object\n",
       "SK_ID_CURR              False        True\n",
       "TARGET                  False        True\n",
       "NAME_CONTRACT_TYPE      False       False\n",
       "CODE_GENDER              True       False\n",
       "FLAG_OWN_CAR            False       False"
      ]
     },
     "execution_count": 5,
     "metadata": {},
     "output_type": "execute_result"
    }
   ],
   "source": [
    "categorical_columns['Datatype']=(df.dtypes!='object')\n",
    "categorical_columns.columns=['Unique<10','Not object']\n",
    "categorical_columns.head()"
   ]
  },
  {
   "cell_type": "code",
   "execution_count": 6,
   "metadata": {
    "colab": {
     "base_uri": "https://localhost:8080/",
     "height": 84
    },
    "colab_type": "code",
    "id": "X_ZzWjPCistL",
    "outputId": "0672beda-3599-4c62-a042-1a267889eebc"
   },
   "outputs": [
    {
     "data": {
      "text/plain": [
       "Index(['REGION_RATING_CLIENT', 'REGION_RATING_CLIENT_W_CITY',\n",
       "       'DEF_60_CNT_SOCIAL_CIRCLE', 'AMT_REQ_CREDIT_BUREAU_HOUR',\n",
       "       'AMT_REQ_CREDIT_BUREAU_DAY', 'AMT_REQ_CREDIT_BUREAU_WEEK'],\n",
       "      dtype='object')"
      ]
     },
     "execution_count": 6,
     "metadata": {},
     "output_type": "execute_result"
    }
   ],
   "source": [
    "categorical_columns[(categorical_columns['Unique<10']==True) & (categorical_columns['Not object']==True)].index"
   ]
  },
  {
   "cell_type": "markdown",
   "metadata": {
    "colab_type": "text",
    "id": "KZVxsf0YbPbs"
   },
   "source": [
    "**Exploratory Data Analysis and Data Cleaning**"
   ]
  },
  {
   "cell_type": "code",
   "execution_count": 7,
   "metadata": {
    "colab": {
     "base_uri": "https://localhost:8080/",
     "height": 67
    },
    "colab_type": "code",
    "id": "shqCbyckKA58",
    "outputId": "978d0c85-890c-4df4-ffa2-9c14d3c0c22d"
   },
   "outputs": [
    {
     "data": {
      "text/plain": [
       "0    282686\n",
       "1     24825\n",
       "Name: TARGET, dtype: int64"
      ]
     },
     "execution_count": 7,
     "metadata": {},
     "output_type": "execute_result"
    }
   ],
   "source": [
    "# Imbalanced Class Data - About 8% of the train set are observations that defaulted on their loans\n",
    "df.TARGET.value_counts()"
   ]
  },
  {
   "cell_type": "code",
   "execution_count": 8,
   "metadata": {
    "colab": {
     "base_uri": "https://localhost:8080/",
     "height": 84
    },
    "colab_type": "code",
    "id": "H5rEio6IcbsZ",
    "outputId": "a2b8d18c-93bd-45da-8b0f-a3d18efe1516"
   },
   "outputs": [
    {
     "data": {
      "text/plain": [
       "float64    65\n",
       "int64      41\n",
       "object     16\n",
       "dtype: int64"
      ]
     },
     "execution_count": 8,
     "metadata": {},
     "output_type": "execute_result"
    }
   ],
   "source": [
    "# checking data types\n",
    "df.dtypes.value_counts()"
   ]
  },
  {
   "cell_type": "code",
   "execution_count": 9,
   "metadata": {
    "colab": {
     "base_uri": "https://localhost:8080/",
     "height": 1000
    },
    "colab_type": "code",
    "id": "1EdMUpsmSTCi",
    "outputId": "c8dee159-d690-47d0-fb1b-d98f196728f9"
   },
   "outputs": [
    {
     "data": {
      "text/plain": [
       "SK_ID_CURR                      int64\n",
       "TARGET                          int64\n",
       "NAME_CONTRACT_TYPE             object\n",
       "CODE_GENDER                    object\n",
       "FLAG_OWN_CAR                   object\n",
       "                               ...   \n",
       "AMT_REQ_CREDIT_BUREAU_DAY     float64\n",
       "AMT_REQ_CREDIT_BUREAU_WEEK    float64\n",
       "AMT_REQ_CREDIT_BUREAU_MON     float64\n",
       "AMT_REQ_CREDIT_BUREAU_QRT     float64\n",
       "AMT_REQ_CREDIT_BUREAU_YEAR    float64\n",
       "Length: 122, dtype: object"
      ]
     },
     "execution_count": 9,
     "metadata": {},
     "output_type": "execute_result"
    }
   ],
   "source": [
    "df.dtypes"
   ]
  },
  {
   "cell_type": "markdown",
   "metadata": {
    "colab_type": "text",
    "id": "Ps_XoGRDNssl"
   },
   "source": [
    "Let's try to see the patterns in missing fields"
   ]
  },
  {
   "cell_type": "code",
   "execution_count": 10,
   "metadata": {
    "colab": {
     "base_uri": "https://localhost:8080/",
     "height": 168
    },
    "colab_type": "code",
    "id": "9pjJmpQ1WV6P",
    "outputId": "775a9adc-b6c9-4895-a00e-7c7a38a710a2"
   },
   "outputs": [
    {
     "data": {
      "text/plain": [
       "count    307511.000000\n",
       "mean      63815.045904\n",
       "std      141275.766519\n",
       "min      -17912.000000\n",
       "25%       -2760.000000\n",
       "50%       -1213.000000\n",
       "75%        -289.000000\n",
       "max      365243.000000\n",
       "Name: DAYS_EMPLOYED, dtype: float64"
      ]
     },
     "execution_count": 10,
     "metadata": {},
     "output_type": "execute_result"
    }
   ],
   "source": [
    "# Checking the days_employed predictor\n",
    "df['DAYS_EMPLOYED'].describe()"
   ]
  },
  {
   "cell_type": "code",
   "execution_count": 11,
   "metadata": {
    "colab": {},
    "colab_type": "code",
    "id": "AQElZE3mWX6k"
   },
   "outputs": [],
   "source": [
    "# 307511 days is more than 1000 years, replacing it with nulls\n",
    "df['DAYS_EMPLOYED'].replace({365243:np.nan},inplace=True)"
   ]
  },
  {
   "cell_type": "code",
   "execution_count": 12,
   "metadata": {
    "colab": {
     "base_uri": "https://localhost:8080/",
     "height": 295
    },
    "colab_type": "code",
    "id": "seejTca4WbYx",
    "outputId": "45c1086b-182f-4c55-aa3a-4e819ecf41a1"
   },
   "outputs": [
    {
     "data": {
      "image/png": "[encoded data removed]",
      "text/plain": [
       "<Figure size 432x288 with 1 Axes>"
      ]
     },
     "metadata": {},
     "output_type": "display_data"
    }
   ],
   "source": [
    "#Checking the distribution of days of employment\n",
    "df['DAYS_EMPLOYED'].plot.hist(title = 'Days Employment Histogram');\n",
    "plt.xlabel('Days Employment');"
   ]
  },
  {
   "cell_type": "code",
   "execution_count": 13,
   "metadata": {
    "colab": {},
    "colab_type": "code",
    "id": "p0_tBa03Wek5"
   },
   "outputs": [],
   "source": [
    "# data is skewed, replacing the nulls with the median\n",
    "df['DAYS_EMPLOYED']=df['DAYS_EMPLOYED'].fillna(df['DAYS_EMPLOYED'].median())"
   ]
  },
  {
   "cell_type": "code",
   "execution_count": 14,
   "metadata": {
    "colab": {
     "base_uri": "https://localhost:8080/",
     "height": 284
    },
    "colab_type": "code",
    "id": "XGCsHm8vY_Iw",
    "outputId": "e036739f-d109-4bcc-db6d-9b9fc2d6d08e"
   },
   "outputs": [
    {
     "data": {
      "text/plain": [
       "<AxesSubplot:>"
      ]
     },
     "execution_count": 14,
     "metadata": {},
     "output_type": "execute_result"
    },
    {
     "data": {
      "image/png": "[encoded data removed]",
      "text/plain": [
       "<Figure size 432x288 with 1 Axes>"
      ]
     },
     "metadata": {},
     "output_type": "display_data"
    }
   ],
   "source": [
    "# Checking impact of gender on target variable\n",
    "((df[df['CODE_GENDER']!='XNA']['CODE_GENDER'].value_counts())/len(df)).plot(kind='bar')"
   ]
  },
  {
   "cell_type": "code",
   "execution_count": 15,
   "metadata": {
    "colab": {
     "base_uri": "https://localhost:8080/",
     "height": 362
    },
    "colab_type": "code",
    "id": "pKwUTeOQZCIm",
    "outputId": "0d2b5ffb-15bb-422c-a66d-c45f0c5f2f3c"
   },
   "outputs": [
    {
     "data": {
      "text/plain": [
       "<AxesSubplot:>"
      ]
     },
     "execution_count": 15,
     "metadata": {},
     "output_type": "execute_result"
    },
    {
     "data": {
      "image/png": "[encoded data removed]",
      "text/plain": [
       "<Figure size 432x288 with 1 Axes>"
      ]
     },
     "metadata": {},
     "output_type": "display_data"
    }
   ],
   "source": [
    "# Male tends to default more\n",
    "lst=[]\n",
    "\n",
    "lst.append(len(df[(df['CODE_GENDER']=='M') & (df['TARGET']==1)])*1.0/(len(df[df['CODE_GENDER']=='M'])))\n",
    "lst.append(len(df[(df['CODE_GENDER']=='F') & (df['TARGET']==1)])*1.0/(len(df[df['CODE_GENDER']=='F'])))\n",
    "\n",
    "names=['Male Defaulter','Female Defaulter']\n",
    "\n",
    "gender_default=pd.DataFrame(lst,names)\n",
    "gender_default=gender_default*100\n",
    "gender_default.columns=['Percentage share']\n",
    "gender_default.plot(kind='bar')"
   ]
  },
  {
   "cell_type": "code",
   "execution_count": 16,
   "metadata": {
    "colab": {
     "base_uri": "https://localhost:8080/",
     "height": 428
    },
    "colab_type": "code",
    "id": "K9LZXf-XZQlz",
    "outputId": "9be4cc91-1c56-4be2-c775-f4b17b88ee8a"
   },
   "outputs": [
    {
     "data": {
      "text/plain": [
       "<AxesSubplot:>"
      ]
     },
     "execution_count": 16,
     "metadata": {},
     "output_type": "execute_result"
    },
    {
     "data": {
      "image/png": "[encoded data removed]",
      "text/plain": [
       "<Figure size 432x288 with 1 Axes>"
      ]
     },
     "metadata": {},
     "output_type": "display_data"
    }
   ],
   "source": [
    "# Checking the impact of education level on target variable - education seems to be inversely proportional to loan default\n",
    "\n",
    "((df[df['TARGET']==1]['NAME_EDUCATION_TYPE'].value_counts())*100/(df['NAME_EDUCATION_TYPE'].value_counts())).plot(kind='bar')"
   ]
  },
  {
   "cell_type": "code",
   "execution_count": 17,
   "metadata": {
    "colab": {
     "base_uri": "https://localhost:8080/",
     "height": 382
    },
    "colab_type": "code",
    "id": "YYoeUPFuZTSh",
    "outputId": "f051284c-ea9c-4f12-e1b2-5fde410f40aa"
   },
   "outputs": [
    {
     "data": {
      "text/plain": [
       "<AxesSubplot:>"
      ]
     },
     "execution_count": 17,
     "metadata": {},
     "output_type": "execute_result"
    },
    {
     "data": {
      "image/png": "[encoded data removed]",
      "text/plain": [
       "<Figure size 432x288 with 1 Axes>"
      ]
     },
     "metadata": {},
     "output_type": "display_data"
    }
   ],
   "source": [
    "# Low skilled employees tend to do more default\n",
    "\n",
    "((df[df['TARGET']==1]['OCCUPATION_TYPE'].value_counts())*100/(df['OCCUPATION_TYPE'].value_counts())).plot(kind='bar')"
   ]
  },
  {
   "cell_type": "code",
   "execution_count": 18,
   "metadata": {
    "colab": {
     "base_uri": "https://localhost:8080/",
     "height": 118
    },
    "colab_type": "code",
    "id": "rPlLbfAmMN1N",
    "outputId": "b8f4a175-4c68-492a-98e2-123a8e0f8019"
   },
   "outputs": [
    {
     "data": {
      "text/plain": [
       "0.0    264366\n",
       "1.0      1560\n",
       "2.0        56\n",
       "3.0         9\n",
       "4.0         1\n",
       "Name: AMT_REQ_CREDIT_BUREAU_HOUR, dtype: int64"
      ]
     },
     "execution_count": 18,
     "metadata": {},
     "output_type": "execute_result"
    }
   ],
   "source": [
    "#Checking the distribution of other variables in the dataset\n",
    "df.AMT_REQ_CREDIT_BUREAU_HOUR.value_counts()"
   ]
  },
  {
   "cell_type": "code",
   "execution_count": 19,
   "metadata": {
    "colab": {
     "base_uri": "https://localhost:8080/",
     "height": 185
    },
    "colab_type": "code",
    "id": "rVGOqPDGMiJU",
    "outputId": "78bdf48e-cb45-4b14-b58a-af9690e72350"
   },
   "outputs": [
    {
     "data": {
      "text/plain": [
       "0.0    264503\n",
       "1.0      1292\n",
       "2.0       106\n",
       "3.0        45\n",
       "4.0        26\n",
       "5.0         9\n",
       "6.0         8\n",
       "9.0         2\n",
       "8.0         1\n",
       "Name: AMT_REQ_CREDIT_BUREAU_DAY, dtype: int64"
      ]
     },
     "execution_count": 19,
     "metadata": {},
     "output_type": "execute_result"
    }
   ],
   "source": [
    "df.AMT_REQ_CREDIT_BUREAU_DAY.value_counts()"
   ]
  },
  {
   "cell_type": "code",
   "execution_count": 20,
   "metadata": {
    "colab": {
     "base_uri": "https://localhost:8080/",
     "height": 437
    },
    "colab_type": "code",
    "id": "ru2XORUZMpVy",
    "outputId": "0d529be8-6111-46da-df49-4215275e0f91"
   },
   "outputs": [
    {
     "data": {
      "text/plain": [
       "0.0     222233\n",
       "1.0      33147\n",
       "2.0       5386\n",
       "3.0       1991\n",
       "4.0       1076\n",
       "5.0        602\n",
       "6.0        343\n",
       "7.0        298\n",
       "9.0        206\n",
       "8.0        185\n",
       "10.0       132\n",
       "11.0       119\n",
       "12.0        77\n",
       "13.0        72\n",
       "14.0        40\n",
       "15.0        35\n",
       "16.0        23\n",
       "17.0        14\n",
       "18.0         6\n",
       "19.0         3\n",
       "24.0         1\n",
       "27.0         1\n",
       "22.0         1\n",
       "23.0         1\n",
       "Name: AMT_REQ_CREDIT_BUREAU_MON, dtype: int64"
      ]
     },
     "execution_count": 20,
     "metadata": {},
     "output_type": "execute_result"
    }
   ],
   "source": [
    "df.AMT_REQ_CREDIT_BUREAU_MON.value_counts()"
   ]
  },
  {
   "cell_type": "code",
   "execution_count": 21,
   "metadata": {
    "colab": {
     "base_uri": "https://localhost:8080/",
     "height": 185
    },
    "colab_type": "code",
    "id": "15pYkHTMMpCY",
    "outputId": "7e98f575-2985-4935-aa80-2f13d96da1d4"
   },
   "outputs": [
    {
     "data": {
      "text/plain": [
       "0.0    257456\n",
       "1.0      8208\n",
       "2.0       199\n",
       "3.0        58\n",
       "4.0        34\n",
       "6.0        20\n",
       "5.0        10\n",
       "8.0         5\n",
       "7.0         2\n",
       "Name: AMT_REQ_CREDIT_BUREAU_WEEK, dtype: int64"
      ]
     },
     "execution_count": 21,
     "metadata": {},
     "output_type": "execute_result"
    }
   ],
   "source": [
    "df.AMT_REQ_CREDIT_BUREAU_WEEK.value_counts()"
   ]
  },
  {
   "cell_type": "code",
   "execution_count": 22,
   "metadata": {
    "colab": {
     "base_uri": "https://localhost:8080/",
     "height": 218
    },
    "colab_type": "code",
    "id": "sY1pwE3mMnnY",
    "outputId": "49469d5a-dbd5-4758-9a40-37f5e10ec492"
   },
   "outputs": [
    {
     "data": {
      "text/plain": [
       "0.0      215417\n",
       "1.0       33862\n",
       "2.0       14412\n",
       "3.0        1717\n",
       "4.0         476\n",
       "5.0          64\n",
       "6.0          28\n",
       "7.0           7\n",
       "8.0           7\n",
       "19.0          1\n",
       "261.0         1\n",
       "Name: AMT_REQ_CREDIT_BUREAU_QRT, dtype: int64"
      ]
     },
     "execution_count": 22,
     "metadata": {},
     "output_type": "execute_result"
    }
   ],
   "source": [
    "df.AMT_REQ_CREDIT_BUREAU_QRT.value_counts()"
   ]
  },
  {
   "cell_type": "code",
   "execution_count": 23,
   "metadata": {
    "colab": {
     "base_uri": "https://localhost:8080/",
     "height": 454
    },
    "colab_type": "code",
    "id": "SdTr-cxkMoU4",
    "outputId": "aa4c4c8b-f36c-4393-a9fe-72b45600a787"
   },
   "outputs": [
    {
     "data": {
      "text/plain": [
       "0.0     71801\n",
       "1.0     63405\n",
       "2.0     50192\n",
       "3.0     33628\n",
       "4.0     20714\n",
       "5.0     12052\n",
       "6.0      6967\n",
       "7.0      3869\n",
       "8.0      2127\n",
       "9.0      1096\n",
       "11.0       31\n",
       "12.0       30\n",
       "10.0       22\n",
       "13.0       19\n",
       "14.0       10\n",
       "17.0        7\n",
       "15.0        6\n",
       "19.0        4\n",
       "18.0        4\n",
       "16.0        3\n",
       "21.0        1\n",
       "23.0        1\n",
       "25.0        1\n",
       "20.0        1\n",
       "22.0        1\n",
       "Name: AMT_REQ_CREDIT_BUREAU_YEAR, dtype: int64"
      ]
     },
     "execution_count": 23,
     "metadata": {},
     "output_type": "execute_result"
    }
   ],
   "source": [
    "df.AMT_REQ_CREDIT_BUREAU_YEAR.value_counts()"
   ]
  },
  {
   "cell_type": "code",
   "execution_count": 24,
   "metadata": {
    "colab": {},
    "colab_type": "code",
    "id": "bKEGjnUWeG8c"
   },
   "outputs": [],
   "source": [
    "# Except the year, 0 looks the most common value in all other Credit Bureau enquiry fields\n",
    "df.AMT_REQ_CREDIT_BUREAU_HOUR.fillna(0, inplace=True)\n",
    "df.AMT_REQ_CREDIT_BUREAU_DAY.fillna(0, inplace=True)\n",
    "df.AMT_REQ_CREDIT_BUREAU_MON.fillna(0, inplace=True)\n",
    "df.AMT_REQ_CREDIT_BUREAU_WEEK.fillna(0, inplace=True)\n",
    "df.AMT_REQ_CREDIT_BUREAU_QRT.fillna(0, inplace=True)"
   ]
  },
  {
   "cell_type": "code",
   "execution_count": 25,
   "metadata": {
    "colab": {
     "base_uri": "https://localhost:8080/",
     "height": 286
    },
    "colab_type": "code",
    "id": "jFIECOMxlF2F",
    "outputId": "1d6a7def-3dcd-4e8d-db9d-83d1f3a7e574"
   },
   "outputs": [
    {
     "data": {
      "text/plain": [
       "0.746300    1460\n",
       "0.713631    1315\n",
       "0.694093    1276\n",
       "0.670652    1191\n",
       "0.652897    1154\n",
       "0.581484    1141\n",
       "0.689479    1138\n",
       "0.595456    1136\n",
       "0.554947    1132\n",
       "0.621226    1109\n",
       "0.657784    1092\n",
       "0.607557    1067\n",
       "0.643026    1066\n",
       "0.450747    1064\n",
       "0.626304    1054\n",
       "Name: EXT_SOURCE_3, dtype: int64"
      ]
     },
     "execution_count": 25,
     "metadata": {},
     "output_type": "execute_result"
    }
   ],
   "source": [
    "# Let's explore EXT_SOURCE_3 \n",
    "df['EXT_SOURCE_3'].value_counts().head(15)"
   ]
  },
  {
   "cell_type": "code",
   "execution_count": 26,
   "metadata": {
    "colab": {
     "base_uri": "https://localhost:8080/",
     "height": 168
    },
    "colab_type": "code",
    "id": "7Cf509bZQSS2",
    "outputId": "cef8eaac-e221-4143-ec8a-7ee739ecc0c9"
   },
   "outputs": [
    {
     "data": {
      "text/plain": [
       "count    246546.000000\n",
       "mean          0.510853\n",
       "std           0.194844\n",
       "min           0.000527\n",
       "25%           0.370650\n",
       "50%           0.535276\n",
       "75%           0.669057\n",
       "max           0.896010\n",
       "Name: EXT_SOURCE_3, dtype: float64"
      ]
     },
     "execution_count": 26,
     "metadata": {},
     "output_type": "execute_result"
    }
   ],
   "source": [
    "df['EXT_SOURCE_3'].describe()"
   ]
  },
  {
   "cell_type": "code",
   "execution_count": 27,
   "metadata": {
    "colab": {
     "base_uri": "https://localhost:8080/",
     "height": 34
    },
    "colab_type": "code",
    "id": "pmWDH3oHqsul",
    "outputId": "01ec8736-5abf-48b3-a5b1-bc700dd47d9c"
   },
   "outputs": [
    {
     "data": {
      "text/plain": [
       "0.10916729237112612"
      ]
     },
     "execution_count": 27,
     "metadata": {},
     "output_type": "execute_result"
    }
   ],
   "source": [
    "df.EXT_SOURCE_3.corr(df.EXT_SOURCE_2)"
   ]
  },
  {
   "cell_type": "code",
   "execution_count": 28,
   "metadata": {
    "colab": {
     "base_uri": "https://localhost:8080/",
     "height": 34
    },
    "colab_type": "code",
    "id": "_2RH5NRYwkuR",
    "outputId": "530f1e30-ff1b-4f9f-8b8c-6648d0ea2197"
   },
   "outputs": [
    {
     "data": {
      "text/plain": [
       "0.1868455077003878"
      ]
     },
     "execution_count": 28,
     "metadata": {},
     "output_type": "execute_result"
    }
   ],
   "source": [
    "# weak correlation with other external sources (EXT_SOURCE_1 and EXT_SOURCE_2)\n",
    "df.EXT_SOURCE_3.corr(df.EXT_SOURCE_1)"
   ]
  },
  {
   "cell_type": "code",
   "execution_count": 29,
   "metadata": {
    "colab": {},
    "colab_type": "code",
    "id": "yMSSw_VYw-sG"
   },
   "outputs": [],
   "source": [
    "# couldn't find any specific pattern, replacing with median\n",
    "df.EXT_SOURCE_3.fillna(df.EXT_SOURCE_3.median(),inplace = True)"
   ]
  },
  {
   "cell_type": "code",
   "execution_count": 30,
   "metadata": {
    "colab": {
     "base_uri": "https://localhost:8080/",
     "height": 336
    },
    "colab_type": "code",
    "id": "5FfyNzhwy0ax",
    "outputId": "a6234651-4698-4a7f-925f-7c42c1827e50"
   },
   "outputs": [
    {
     "data": {
      "text/plain": [
       "Laborers                 55186\n",
       "Sales staff              32102\n",
       "Core staff               27570\n",
       "Managers                 21371\n",
       "Drivers                  18603\n",
       "High skill tech staff    11380\n",
       "Accountants               9813\n",
       "Medicine staff            8537\n",
       "Security staff            6721\n",
       "Cooking staff             5946\n",
       "Cleaning staff            4653\n",
       "Private service staff     2652\n",
       "Low-skill Laborers        2093\n",
       "Waiters/barmen staff      1348\n",
       "Secretaries               1305\n",
       "Realty agents              751\n",
       "HR staff                   563\n",
       "IT staff                   526\n",
       "Name: OCCUPATION_TYPE, dtype: int64"
      ]
     },
     "execution_count": 30,
     "metadata": {},
     "output_type": "execute_result"
    }
   ],
   "source": [
    "# Occupation Type\n",
    "df.OCCUPATION_TYPE.value_counts()"
   ]
  },
  {
   "cell_type": "code",
   "execution_count": 31,
   "metadata": {
    "colab": {
     "base_uri": "https://localhost:8080/",
     "height": 610
    },
    "colab_type": "code",
    "id": "u-zNTv2Nii5y",
    "outputId": "2cd213fa-d510-4ef1-da34-5bc3372d7ded"
   },
   "outputs": [
    {
     "data": {
      "text/html": [
       "<div>\n",
       "<style scoped>\n",
       "    .dataframe tbody tr th:only-of-type {\n",
       "        vertical-align: middle;\n",
       "    }\n",
       "\n",
       "    .dataframe tbody tr th {\n",
       "        vertical-align: top;\n",
       "    }\n",
       "\n",
       "    .dataframe thead th {\n",
       "        text-align: right;\n",
       "    }\n",
       "</style>\n",
       "<table border=\"1\" class=\"dataframe\">\n",
       "  <thead>\n",
       "    <tr style=\"text-align: right;\">\n",
       "      <th></th>\n",
       "      <th>count</th>\n",
       "      <th>mean</th>\n",
       "      <th>std</th>\n",
       "      <th>min</th>\n",
       "      <th>25%</th>\n",
       "      <th>50%</th>\n",
       "      <th>75%</th>\n",
       "      <th>max</th>\n",
       "    </tr>\n",
       "    <tr>\n",
       "      <th>OCCUPATION_TYPE</th>\n",
       "      <th></th>\n",
       "      <th></th>\n",
       "      <th></th>\n",
       "      <th></th>\n",
       "      <th></th>\n",
       "      <th></th>\n",
       "      <th></th>\n",
       "      <th></th>\n",
       "    </tr>\n",
       "  </thead>\n",
       "  <tbody>\n",
       "    <tr>\n",
       "      <th>Accountants</th>\n",
       "      <td>9813.0</td>\n",
       "      <td>194578.357842</td>\n",
       "      <td>108876.812807</td>\n",
       "      <td>27000.0</td>\n",
       "      <td>130500.0</td>\n",
       "      <td>178650.0</td>\n",
       "      <td>225000.0</td>\n",
       "      <td>2214117.0</td>\n",
       "    </tr>\n",
       "    <tr>\n",
       "      <th>Cleaning staff</th>\n",
       "      <td>4653.0</td>\n",
       "      <td>130790.895551</td>\n",
       "      <td>64075.793833</td>\n",
       "      <td>25650.0</td>\n",
       "      <td>90000.0</td>\n",
       "      <td>112500.0</td>\n",
       "      <td>157500.0</td>\n",
       "      <td>1080000.0</td>\n",
       "    </tr>\n",
       "    <tr>\n",
       "      <th>Cooking staff</th>\n",
       "      <td>5946.0</td>\n",
       "      <td>138396.508176</td>\n",
       "      <td>62742.083077</td>\n",
       "      <td>27000.0</td>\n",
       "      <td>90000.0</td>\n",
       "      <td>126000.0</td>\n",
       "      <td>171000.0</td>\n",
       "      <td>540000.0</td>\n",
       "    </tr>\n",
       "    <tr>\n",
       "      <th>Core staff</th>\n",
       "      <td>27570.0</td>\n",
       "      <td>172656.695254</td>\n",
       "      <td>98147.105697</td>\n",
       "      <td>27000.0</td>\n",
       "      <td>112500.0</td>\n",
       "      <td>157500.0</td>\n",
       "      <td>202500.0</td>\n",
       "      <td>3600000.0</td>\n",
       "    </tr>\n",
       "    <tr>\n",
       "      <th>Drivers</th>\n",
       "      <td>18603.0</td>\n",
       "      <td>187011.606413</td>\n",
       "      <td>82593.382899</td>\n",
       "      <td>27000.0</td>\n",
       "      <td>135000.0</td>\n",
       "      <td>180000.0</td>\n",
       "      <td>225000.0</td>\n",
       "      <td>2475000.0</td>\n",
       "    </tr>\n",
       "    <tr>\n",
       "      <th>HR staff</th>\n",
       "      <td>563.0</td>\n",
       "      <td>188916.282416</td>\n",
       "      <td>93155.321259</td>\n",
       "      <td>30600.0</td>\n",
       "      <td>135000.0</td>\n",
       "      <td>158400.0</td>\n",
       "      <td>225000.0</td>\n",
       "      <td>699750.0</td>\n",
       "    </tr>\n",
       "    <tr>\n",
       "      <th>High skill tech staff</th>\n",
       "      <td>11380.0</td>\n",
       "      <td>182842.045683</td>\n",
       "      <td>95711.001374</td>\n",
       "      <td>27000.0</td>\n",
       "      <td>112500.0</td>\n",
       "      <td>157500.0</td>\n",
       "      <td>225000.0</td>\n",
       "      <td>1890000.0</td>\n",
       "    </tr>\n",
       "    <tr>\n",
       "      <th>IT staff</th>\n",
       "      <td>526.0</td>\n",
       "      <td>213465.601711</td>\n",
       "      <td>142009.791936</td>\n",
       "      <td>45000.0</td>\n",
       "      <td>135000.0</td>\n",
       "      <td>180000.0</td>\n",
       "      <td>247500.0</td>\n",
       "      <td>2025000.0</td>\n",
       "    </tr>\n",
       "    <tr>\n",
       "      <th>Laborers</th>\n",
       "      <td>55186.0</td>\n",
       "      <td>166357.482525</td>\n",
       "      <td>504164.664318</td>\n",
       "      <td>27000.0</td>\n",
       "      <td>112500.0</td>\n",
       "      <td>157500.0</td>\n",
       "      <td>202500.0</td>\n",
       "      <td>117000000.0</td>\n",
       "    </tr>\n",
       "    <tr>\n",
       "      <th>Low-skill Laborers</th>\n",
       "      <td>2093.0</td>\n",
       "      <td>133228.001911</td>\n",
       "      <td>54003.583810</td>\n",
       "      <td>27000.0</td>\n",
       "      <td>90000.0</td>\n",
       "      <td>121500.0</td>\n",
       "      <td>157500.0</td>\n",
       "      <td>450000.0</td>\n",
       "    </tr>\n",
       "    <tr>\n",
       "      <th>Managers</th>\n",
       "      <td>21371.0</td>\n",
       "      <td>260336.681717</td>\n",
       "      <td>184940.984890</td>\n",
       "      <td>27000.0</td>\n",
       "      <td>157500.0</td>\n",
       "      <td>225000.0</td>\n",
       "      <td>315000.0</td>\n",
       "      <td>9000000.0</td>\n",
       "    </tr>\n",
       "    <tr>\n",
       "      <th>Medicine staff</th>\n",
       "      <td>8537.0</td>\n",
       "      <td>149709.643434</td>\n",
       "      <td>74078.798526</td>\n",
       "      <td>26550.0</td>\n",
       "      <td>99000.0</td>\n",
       "      <td>135000.0</td>\n",
       "      <td>180000.0</td>\n",
       "      <td>1350000.0</td>\n",
       "    </tr>\n",
       "    <tr>\n",
       "      <th>Private service staff</th>\n",
       "      <td>2652.0</td>\n",
       "      <td>182334.812783</td>\n",
       "      <td>104751.224342</td>\n",
       "      <td>36000.0</td>\n",
       "      <td>121500.0</td>\n",
       "      <td>157500.0</td>\n",
       "      <td>225000.0</td>\n",
       "      <td>3150000.0</td>\n",
       "    </tr>\n",
       "    <tr>\n",
       "      <th>Realty agents</th>\n",
       "      <td>751.0</td>\n",
       "      <td>195003.994674</td>\n",
       "      <td>82992.755612</td>\n",
       "      <td>67500.0</td>\n",
       "      <td>135000.0</td>\n",
       "      <td>180000.0</td>\n",
       "      <td>225000.0</td>\n",
       "      <td>675000.0</td>\n",
       "    </tr>\n",
       "    <tr>\n",
       "      <th>Sales staff</th>\n",
       "      <td>32102.0</td>\n",
       "      <td>152302.874710</td>\n",
       "      <td>77616.226957</td>\n",
       "      <td>27000.0</td>\n",
       "      <td>103500.0</td>\n",
       "      <td>135000.0</td>\n",
       "      <td>180000.0</td>\n",
       "      <td>2025000.0</td>\n",
       "    </tr>\n",
       "    <tr>\n",
       "      <th>Secretaries</th>\n",
       "      <td>1305.0</td>\n",
       "      <td>160541.662069</td>\n",
       "      <td>115258.230585</td>\n",
       "      <td>45000.0</td>\n",
       "      <td>107284.5</td>\n",
       "      <td>135000.0</td>\n",
       "      <td>180000.0</td>\n",
       "      <td>2025000.0</td>\n",
       "    </tr>\n",
       "    <tr>\n",
       "      <th>Security staff</th>\n",
       "      <td>6721.0</td>\n",
       "      <td>149662.695953</td>\n",
       "      <td>69621.523467</td>\n",
       "      <td>27000.0</td>\n",
       "      <td>103500.0</td>\n",
       "      <td>135000.0</td>\n",
       "      <td>180000.0</td>\n",
       "      <td>832500.0</td>\n",
       "    </tr>\n",
       "    <tr>\n",
       "      <th>Waiters/barmen staff</th>\n",
       "      <td>1348.0</td>\n",
       "      <td>144272.583828</td>\n",
       "      <td>67068.772193</td>\n",
       "      <td>29250.0</td>\n",
       "      <td>90000.0</td>\n",
       "      <td>135000.0</td>\n",
       "      <td>180000.0</td>\n",
       "      <td>585000.0</td>\n",
       "    </tr>\n",
       "  </tbody>\n",
       "</table>\n",
       "</div>"
      ],
      "text/plain": [
       "                         count           mean            std      min  \\\n",
       "OCCUPATION_TYPE                                                         \n",
       "Accountants             9813.0  194578.357842  108876.812807  27000.0   \n",
       "Cleaning staff          4653.0  130790.895551   64075.793833  25650.0   \n",
       "Cooking staff           5946.0  138396.508176   62742.083077  27000.0   \n",
       "Core staff             27570.0  172656.695254   98147.105697  27000.0   \n",
       "Drivers                18603.0  187011.606413   82593.382899  27000.0   \n",
       "HR staff                 563.0  188916.282416   93155.321259  30600.0   \n",
       "High skill tech staff  11380.0  182842.045683   95711.001374  27000.0   \n",
       "IT staff                 526.0  213465.601711  142009.791936  45000.0   \n",
       "Laborers               55186.0  166357.482525  504164.664318  27000.0   \n",
       "Low-skill Laborers      2093.0  133228.001911   54003.583810  27000.0   \n",
       "Managers               21371.0  260336.681717  184940.984890  27000.0   \n",
       "Medicine staff          8537.0  149709.643434   74078.798526  26550.0   \n",
       "Private service staff   2652.0  182334.812783  104751.224342  36000.0   \n",
       "Realty agents            751.0  195003.994674   82992.755612  67500.0   \n",
       "Sales staff            32102.0  152302.874710   77616.226957  27000.0   \n",
       "Secretaries             1305.0  160541.662069  115258.230585  45000.0   \n",
       "Security staff          6721.0  149662.695953   69621.523467  27000.0   \n",
       "Waiters/barmen staff    1348.0  144272.583828   67068.772193  29250.0   \n",
       "\n",
       "                            25%       50%       75%          max  \n",
       "OCCUPATION_TYPE                                                   \n",
       "Accountants            130500.0  178650.0  225000.0    2214117.0  \n",
       "Cleaning staff          90000.0  112500.0  157500.0    1080000.0  \n",
       "Cooking staff           90000.0  126000.0  171000.0     540000.0  \n",
       "Core staff             112500.0  157500.0  202500.0    3600000.0  \n",
       "Drivers                135000.0  180000.0  225000.0    2475000.0  \n",
       "HR staff               135000.0  158400.0  225000.0     699750.0  \n",
       "High skill tech staff  112500.0  157500.0  225000.0    1890000.0  \n",
       "IT staff               135000.0  180000.0  247500.0    2025000.0  \n",
       "Laborers               112500.0  157500.0  202500.0  117000000.0  \n",
       "Low-skill Laborers      90000.0  121500.0  157500.0     450000.0  \n",
       "Managers               157500.0  225000.0  315000.0    9000000.0  \n",
       "Medicine staff          99000.0  135000.0  180000.0    1350000.0  \n",
       "Private service staff  121500.0  157500.0  225000.0    3150000.0  \n",
       "Realty agents          135000.0  180000.0  225000.0     675000.0  \n",
       "Sales staff            103500.0  135000.0  180000.0    2025000.0  \n",
       "Secretaries            107284.5  135000.0  180000.0    2025000.0  \n",
       "Security staff         103500.0  135000.0  180000.0     832500.0  \n",
       "Waiters/barmen staff    90000.0  135000.0  180000.0     585000.0  "
      ]
     },
     "execution_count": 31,
     "metadata": {},
     "output_type": "execute_result"
    }
   ],
   "source": [
    "# checking if salary is a good indicator for OCCUPATION_TYPE - all the salaries are very close, can't get any inference out of it\n",
    "df.groupby(df.OCCUPATION_TYPE).describe()['AMT_INCOME_TOTAL']"
   ]
  },
  {
   "cell_type": "markdown",
   "metadata": {
    "colab_type": "text",
    "id": "A6FoH3TER6LJ"
   },
   "source": [
    "Imputing the remaining missing values using sklearn's iterative_imputer package(inspired from R's MICE package)"
   ]
  },
  {
   "cell_type": "code",
   "execution_count": 32,
   "metadata": {
    "colab": {},
    "colab_type": "code",
    "id": "qFv6uBv6foMP"
   },
   "outputs": [],
   "source": [
    "# importing library\n",
    "from sklearn.experimental import enable_iterative_imputer\n",
    "from sklearn.impute import IterativeImputer\n",
    "\n",
    "imp = IterativeImputer(max_iter = 10, random_state = 0)"
   ]
  },
  {
   "cell_type": "code",
   "execution_count": 33,
   "metadata": {
    "colab": {
     "base_uri": "https://localhost:8080/",
     "height": 118
    },
    "colab_type": "code",
    "id": "5A28Dx8fSEf5",
    "outputId": "3657da56-69d8-474b-8b11-d694467ac5fb"
   },
   "outputs": [
    {
     "data": {
      "text/plain": [
       "Index(['NAME_CONTRACT_TYPE', 'CODE_GENDER', 'FLAG_OWN_CAR', 'FLAG_OWN_REALTY',\n",
       "       'NAME_TYPE_SUITE', 'NAME_INCOME_TYPE', 'NAME_EDUCATION_TYPE',\n",
       "       'NAME_FAMILY_STATUS', 'NAME_HOUSING_TYPE', 'OCCUPATION_TYPE',\n",
       "       'WEEKDAY_APPR_PROCESS_START', 'ORGANIZATION_TYPE', 'FONDKAPREMONT_MODE',\n",
       "       'HOUSETYPE_MODE', 'WALLSMATERIAL_MODE', 'EMERGENCYSTATE_MODE'],\n",
       "      dtype='object')"
      ]
     },
     "execution_count": 33,
     "metadata": {},
     "output_type": "execute_result"
    }
   ],
   "source": [
    "# categorical columns\n",
    "df.columns[df.dtypes.values == 'O']"
   ]
  },
  {
   "cell_type": "code",
   "execution_count": 34,
   "metadata": {},
   "outputs": [
    {
     "name": "stdout",
     "output_type": "stream",
     "text": [
      "<class 'pandas.core.frame.DataFrame'>\n",
      "RangeIndex: 307511 entries, 0 to 307510\n",
      "Columns: 122 entries, SK_ID_CURR to AMT_REQ_CREDIT_BUREAU_YEAR\n",
      "dtypes: float64(66), int64(40), object(16)\n",
      "memory usage: 286.2+ MB\n"
     ]
    }
   ],
   "source": [
    "df.info()"
   ]
  },
  {
   "cell_type": "code",
   "execution_count": 37,
   "metadata": {
    "colab": {
     "base_uri": "https://localhost:8080/",
     "height": 134
    },
    "colab_type": "code",
    "id": "hXc3wGFuYMFM",
    "outputId": "d7ed13cf-bd38-4658-c528-993e19fc083f"
   },
   "outputs": [
    {
     "data": {
      "text/plain": [
       "COMMONAREA_MODE             214865\n",
       "COMMONAREA_AVG              214865\n",
       "COMMONAREA_MEDI             214865\n",
       "NONLIVINGAPARTMENTS_MEDI    213514\n",
       "NONLIVINGAPARTMENTS_MODE    213514\n",
       "NONLIVINGAPARTMENTS_AVG     213514\n",
       "dtype: int64"
      ]
     },
     "execution_count": 37,
     "metadata": {},
     "output_type": "execute_result"
    }
   ],
   "source": [
    "# we have 5 categorical features with null values\n",
    "df.isnull().sum().sort_values(ascending = False).iloc[:6]"
   ]
  },
  {
   "cell_type": "markdown",
   "metadata": {
    "colab_type": "text",
    "id": "6mrxDQNyYomz"
   },
   "source": [
    "Let's impute the remaining values"
   ]
  },
  {
   "cell_type": "code",
   "execution_count": 38,
   "metadata": {},
   "outputs": [],
   "source": [
    "df = df.fillna(0)"
   ]
  },
  {
   "cell_type": "code",
   "execution_count": 39,
   "metadata": {
    "colab": {
     "base_uri": "https://localhost:8080/",
     "height": 151
    },
    "colab_type": "code",
    "id": "zUW7JLGCYxbU",
    "outputId": "1f8d707d-703d-453e-8c96-622e5d0ad81d"
   },
   "outputs": [
    {
     "data": {
      "text/plain": [
       "Unaccompanied      248526\n",
       "Family              40149\n",
       "Spouse, partner     11370\n",
       "Children             3267\n",
       "Other_B              1770\n",
       "0                    1292\n",
       "Other_A               866\n",
       "Group of people       271\n",
       "Name: NAME_TYPE_SUITE, dtype: int64"
      ]
     },
     "execution_count": 39,
     "metadata": {},
     "output_type": "execute_result"
    }
   ],
   "source": [
    "df['NAME_TYPE_SUITE'].value_counts()"
   ]
  },
  {
   "cell_type": "code",
   "execution_count": 40,
   "metadata": {
    "colab": {},
    "colab_type": "code",
    "id": "rjeNZyQMBgVl"
   },
   "outputs": [],
   "source": [
    "df.NAME_TYPE_SUITE.fillna('Unaccompanied', inplace=True)"
   ]
  },
  {
   "cell_type": "code",
   "execution_count": 41,
   "metadata": {
    "colab": {
     "base_uri": "https://localhost:8080/",
     "height": 84
    },
    "colab_type": "code",
    "id": "tbnizT4PY8hO",
    "outputId": "c049eae2-548c-474c-8ee9-e92437751c23"
   },
   "outputs": [
    {
     "data": {
      "text/plain": [
       "0                   154297\n",
       "block of flats      150503\n",
       "specific housing      1499\n",
       "terraced house        1212\n",
       "Name: HOUSETYPE_MODE, dtype: int64"
      ]
     },
     "execution_count": 41,
     "metadata": {},
     "output_type": "execute_result"
    }
   ],
   "source": [
    "df['HOUSETYPE_MODE'].value_counts()"
   ]
  },
  {
   "cell_type": "code",
   "execution_count": 42,
   "metadata": {
    "colab": {},
    "colab_type": "code",
    "id": "y26JS2MvZVDP"
   },
   "outputs": [],
   "source": [
    "df.HOUSETYPE_MODE.fillna('block of flats', inplace=True)"
   ]
  },
  {
   "cell_type": "code",
   "execution_count": 43,
   "metadata": {
    "colab": {
     "base_uri": "https://localhost:8080/",
     "height": 67
    },
    "colab_type": "code",
    "id": "FoWUpkVmY9mM",
    "outputId": "ff846048-55da-426f-f868-7a1832486055"
   },
   "outputs": [
    {
     "data": {
      "text/plain": [
       "No     159428\n",
       "0      145755\n",
       "Yes      2328\n",
       "Name: EMERGENCYSTATE_MODE, dtype: int64"
      ]
     },
     "execution_count": 43,
     "metadata": {},
     "output_type": "execute_result"
    }
   ],
   "source": [
    "df['EMERGENCYSTATE_MODE'].value_counts()"
   ]
  },
  {
   "cell_type": "code",
   "execution_count": 44,
   "metadata": {
    "colab": {},
    "colab_type": "code",
    "id": "YWyLcIeZZksP"
   },
   "outputs": [],
   "source": [
    "df.EMERGENCYSTATE_MODE.fillna('EMERGENCYSTATE_MODE', inplace=True)"
   ]
  },
  {
   "cell_type": "code",
   "execution_count": 45,
   "metadata": {
    "colab": {
     "base_uri": "https://localhost:8080/",
     "height": 151
    },
    "colab_type": "code",
    "id": "I8uF9Ub4Y5wT",
    "outputId": "612432c1-2b33-44e5-a6fb-083172db70de"
   },
   "outputs": [
    {
     "data": {
      "text/plain": [
       "0               156341\n",
       "Panel            66040\n",
       "Stone, brick     64815\n",
       "Block             9253\n",
       "Wooden            5362\n",
       "Mixed             2296\n",
       "Monolithic        1779\n",
       "Others            1625\n",
       "Name: WALLSMATERIAL_MODE, dtype: int64"
      ]
     },
     "execution_count": 45,
     "metadata": {},
     "output_type": "execute_result"
    }
   ],
   "source": [
    "df['WALLSMATERIAL_MODE'].value_counts()"
   ]
  },
  {
   "cell_type": "code",
   "execution_count": 46,
   "metadata": {
    "colab": {},
    "colab_type": "code",
    "id": "yKyA2PUBZyUg"
   },
   "outputs": [],
   "source": [
    "df.WALLSMATERIAL_MODE.fillna('Panel', inplace=True)"
   ]
  },
  {
   "cell_type": "code",
   "execution_count": 47,
   "metadata": {
    "colab": {
     "base_uri": "https://localhost:8080/",
     "height": 336
    },
    "colab_type": "code",
    "id": "dc98FxIqY9Ng",
    "outputId": "8d26f845-9efc-4f9b-a09c-18029b09b3d1"
   },
   "outputs": [
    {
     "data": {
      "text/plain": [
       "0                        96391\n",
       "Laborers                 55186\n",
       "Sales staff              32102\n",
       "Core staff               27570\n",
       "Managers                 21371\n",
       "Drivers                  18603\n",
       "High skill tech staff    11380\n",
       "Accountants               9813\n",
       "Medicine staff            8537\n",
       "Security staff            6721\n",
       "Cooking staff             5946\n",
       "Cleaning staff            4653\n",
       "Private service staff     2652\n",
       "Low-skill Laborers        2093\n",
       "Waiters/barmen staff      1348\n",
       "Secretaries               1305\n",
       "Realty agents              751\n",
       "HR staff                   563\n",
       "IT staff                   526\n",
       "Name: OCCUPATION_TYPE, dtype: int64"
      ]
     },
     "execution_count": 47,
     "metadata": {},
     "output_type": "execute_result"
    }
   ],
   "source": [
    "df['OCCUPATION_TYPE'].value_counts()"
   ]
  },
  {
   "cell_type": "code",
   "execution_count": 48,
   "metadata": {
    "colab": {},
    "colab_type": "code",
    "id": "NRT4GcQNZ4tl"
   },
   "outputs": [],
   "source": [
    "df.OCCUPATION_TYPE.fillna('Laborers', inplace=True)"
   ]
  },
  {
   "cell_type": "code",
   "execution_count": 49,
   "metadata": {
    "colab": {
     "base_uri": "https://localhost:8080/",
     "height": 34
    },
    "colab_type": "code",
    "id": "H9K0khsmaCz0",
    "outputId": "57fccd4e-27c8-40e8-d97d-9c9d30952abb"
   },
   "outputs": [
    {
     "data": {
      "text/plain": [
       "0"
      ]
     },
     "execution_count": 49,
     "metadata": {},
     "output_type": "execute_result"
    }
   ],
   "source": [
    "# no more nulls\n",
    "df.isnull().any().sum()"
   ]
  },
  {
   "cell_type": "markdown",
   "metadata": {
    "colab_type": "text",
    "id": "gsVekx1lbNmc"
   },
   "source": [
    "**Feature Engineering**"
   ]
  },
  {
   "cell_type": "code",
   "execution_count": 51,
   "metadata": {
    "colab": {},
    "colab_type": "code",
    "id": "4CKVmLdFW0fg"
   },
   "outputs": [],
   "source": [
    "#Changing the days value to positive\n",
    "df['DAYS_EMPLOYED']=df['DAYS_EMPLOYED'].apply(lambda x: abs(x))\n",
    "df['DAYS_BIRTH']=df['DAYS_BIRTH'].apply(lambda x: abs(x))\n",
    "\n",
    "#Converting days to years\n",
    "df['YEARS_EMPLOYED']=df['DAYS_EMPLOYED'].apply(lambda x: x/365)\n",
    "df['YEARS_BIRTH']=df['DAYS_BIRTH'].apply(lambda x:x/365)"
   ]
  },
  {
   "cell_type": "code",
   "execution_count": 52,
   "metadata": {
    "colab": {
     "base_uri": "https://localhost:8080/",
     "height": 370
    },
    "colab_type": "code",
    "id": "HeJ7Nb5lZi6L",
    "outputId": "da4051e9-7a78-4c56-d9fd-2833cde9449d"
   },
   "outputs": [
    {
     "data": {
      "text/plain": [
       "2.0     158357\n",
       "1.0      67847\n",
       "3.0      52601\n",
       "4.0      24697\n",
       "5.0       3478\n",
       "6.0        408\n",
       "7.0         81\n",
       "8.0         20\n",
       "9.0          6\n",
       "10.0         3\n",
       "0.0          2\n",
       "20.0         2\n",
       "16.0         2\n",
       "12.0         2\n",
       "14.0         2\n",
       "15.0         1\n",
       "13.0         1\n",
       "11.0         1\n",
       "Name: CNT_FAM_MEMBERS, dtype: int64"
      ]
     },
     "execution_count": 52,
     "metadata": {},
     "output_type": "execute_result"
    }
   ],
   "source": [
    "# Bucketing Family size\n",
    "df['CNT_FAM_MEMBERS'].value_counts()"
   ]
  },
  {
   "cell_type": "code",
   "execution_count": 53,
   "metadata": {
    "colab": {},
    "colab_type": "code",
    "id": "1jpyfaTYZkr3"
   },
   "outputs": [],
   "source": [
    "bins = pd.IntervalIndex.from_tuples([(0,1), (1,2), (2,4), (4,22)])\n",
    "df['FAMILY SIZE'] = pd.cut(df['CNT_FAM_MEMBERS'],bins)\n",
    "df['FAMILY SIZE']=df['FAMILY SIZE'].astype('str')"
   ]
  },
  {
   "cell_type": "code",
   "execution_count": 54,
   "metadata": {
    "colab": {},
    "colab_type": "code",
    "id": "J-HfkaDxZsGb"
   },
   "outputs": [],
   "source": [
    "df['FAMILY SIZE']=df['FAMILY SIZE'].replace('(1, 2]','Small')\n",
    "df['FAMILY SIZE']=df['FAMILY SIZE'].replace('(0, 1]','Single')\n",
    "df['FAMILY SIZE']=df['FAMILY SIZE'].replace('(2, 4]','Normal')\n",
    "df['FAMILY SIZE']=df['FAMILY SIZE'].replace('(4, 22]','Big')"
   ]
  },
  {
   "cell_type": "code",
   "execution_count": 56,
   "metadata": {
    "colab": {
     "base_uri": "https://localhost:8080/",
     "height": 312
    },
    "colab_type": "code",
    "id": "A6dmbPruZuUS",
    "outputId": "10d088b0-080b-4339-b69c-9b10b3892c9e"
   },
   "outputs": [
    {
     "data": {
      "text/plain": [
       "<AxesSubplot:>"
      ]
     },
     "execution_count": 56,
     "metadata": {},
     "output_type": "execute_result"
    },
    {
     "data": {
      "image/png": "[encoded data removed]",
      "text/plain": [
       "<Figure size 432x288 with 1 Axes>"
      ]
     },
     "metadata": {},
     "output_type": "display_data"
    }
   ],
   "source": [
    "df['FAMILY SIZE'].value_counts().plot(kind='bar')"
   ]
  },
  {
   "cell_type": "code",
   "execution_count": 59,
   "metadata": {
    "colab": {
     "base_uri": "https://localhost:8080/",
     "height": 302
    },
    "colab_type": "code",
    "id": "OekCOFILZxhR",
    "outputId": "b2e1b89b-65fd-4eac-9dbc-c5685f9ddd39"
   },
   "outputs": [
    {
     "data": {
      "text/plain": [
       "0     215371\n",
       "1      61119\n",
       "2      26749\n",
       "3       3717\n",
       "4        429\n",
       "5         84\n",
       "6         21\n",
       "7          7\n",
       "14         3\n",
       "19         2\n",
       "12         2\n",
       "10         2\n",
       "9          2\n",
       "8          2\n",
       "11         1\n",
       "Name: CNT_CHILDREN, dtype: int64"
      ]
     },
     "execution_count": 59,
     "metadata": {},
     "output_type": "execute_result"
    }
   ],
   "source": [
    "# bucketing children count\n",
    "df['CNT_CHILDREN'].value_counts()"
   ]
  },
  {
   "cell_type": "code",
   "execution_count": 60,
   "metadata": {
    "colab": {},
    "colab_type": "code",
    "id": "p9BnatXNZ484"
   },
   "outputs": [],
   "source": [
    "bins = pd.IntervalIndex.from_tuples([(-1,0), (0,20)])\n",
    "df['IS_CHILDREN'] = pd.cut(df['CNT_CHILDREN'],bins)\n",
    "df['IS_CHILDREN']=df['IS_CHILDREN'].astype('str')"
   ]
  },
  {
   "cell_type": "code",
   "execution_count": 61,
   "metadata": {
    "colab": {},
    "colab_type": "code",
    "id": "KtlwY1LwZ7qA"
   },
   "outputs": [],
   "source": [
    "df['IS_CHILDREN']=df['IS_CHILDREN'].replace('(-1, 0]','0')\n",
    "df['IS_CHILDREN']=df['IS_CHILDREN'].replace('(0, 20]','1')"
   ]
  },
  {
   "cell_type": "code",
   "execution_count": 63,
   "metadata": {
    "colab": {
     "base_uri": "https://localhost:8080/",
     "height": 282
    },
    "colab_type": "code",
    "id": "iFg4kv-WZ98h",
    "outputId": "85ce921a-04a3-4ebf-bc4d-e34720ce2a76"
   },
   "outputs": [
    {
     "data": {
      "text/plain": [
       "<AxesSubplot:>"
      ]
     },
     "execution_count": 63,
     "metadata": {},
     "output_type": "execute_result"
    },
    {
     "data": {
      "image/png": "[encoded data removed]",
      "text/plain": [
       "<Figure size 432x288 with 1 Axes>"
      ]
     },
     "metadata": {},
     "output_type": "display_data"
    }
   ],
   "source": [
    "df['IS_CHILDREN'].value_counts().plot(kind='bar')"
   ]
  },
  {
   "cell_type": "code",
   "execution_count": 64,
   "metadata": {
    "colab": {},
    "colab_type": "code",
    "id": "pc_dM0rqiVpv"
   },
   "outputs": [],
   "source": [
    "# credit income ratio\n",
    "df['credit_income_ratio'] = df.apply(lambda x: x['AMT_CREDIT'] / x['AMT_INCOME_TOTAL'], axis=1)"
   ]
  },
  {
   "cell_type": "code",
   "execution_count": 65,
   "metadata": {
    "colab": {},
    "colab_type": "code",
    "id": "y1YEPjebiWFT"
   },
   "outputs": [],
   "source": [
    "# annuity income ratio\n",
    "df['annuity_income_ratio'] = df.apply(lambda x: x['AMT_ANNUITY'] / x['AMT_INCOME_TOTAL'], axis=1)"
   ]
  },
  {
   "cell_type": "markdown",
   "metadata": {
    "colab_type": "text",
    "id": "yIdjriCsbSWt"
   },
   "source": [
    "Split train and test back"
   ]
  },
  {
   "cell_type": "code",
   "execution_count": 66,
   "metadata": {
    "colab": {},
    "colab_type": "code",
    "id": "0dUBsOKbzY_A"
   },
   "outputs": [],
   "source": [
    "df[['REGION_RATING_CLIENT', 'REGION_RATING_CLIENT_W_CITY']]=df[['REGION_RATING_CLIENT', 'REGION_RATING_CLIENT_W_CITY']].astype('object')"
   ]
  },
  {
   "cell_type": "code",
   "execution_count": 67,
   "metadata": {
    "colab": {
     "base_uri": "https://localhost:8080/",
     "height": 34
    },
    "colab_type": "code",
    "id": "CLaAZLt9zfh1",
    "outputId": "ac48c4bc-7466-4da8-9a66-6b107b978fa8"
   },
   "outputs": [
    {
     "data": {
      "text/plain": [
       "(307511, 128)"
      ]
     },
     "execution_count": 67,
     "metadata": {},
     "output_type": "execute_result"
    }
   ],
   "source": [
    "df.shape"
   ]
  },
  {
   "cell_type": "code",
   "execution_count": 68,
   "metadata": {
    "colab": {},
    "colab_type": "code",
    "id": "05YT-tnyqhzj"
   },
   "outputs": [],
   "source": [
    "df_dummy = pd.get_dummies(df)"
   ]
  },
  {
   "cell_type": "code",
   "execution_count": 69,
   "metadata": {
    "colab": {
     "base_uri": "https://localhost:8080/",
     "height": 34
    },
    "colab_type": "code",
    "id": "OPYj9Pe1q__6",
    "outputId": "2c0bfac1-4797-47c2-faef-a8b1b0140cba"
   },
   "outputs": [
    {
     "data": {
      "text/plain": [
       "((307511, 267), (307511, 128))"
      ]
     },
     "execution_count": 69,
     "metadata": {},
     "output_type": "execute_result"
    }
   ],
   "source": [
    "df_dummy.shape, df.shape"
   ]
  },
  {
   "cell_type": "code",
   "execution_count": 70,
   "metadata": {
    "colab": {},
    "colab_type": "code",
    "id": "ZjefahHpn4Uu"
   },
   "outputs": [],
   "source": [
    "# Feature names\n",
    "features = list(df_dummy.columns)"
   ]
  },
  {
   "cell_type": "code",
   "execution_count": 71,
   "metadata": {
    "colab": {
     "base_uri": "https://localhost:8080/",
     "height": 84
    },
    "colab_type": "code",
    "id": "jHpe-gVSv4Tl",
    "outputId": "92aedd03-107d-40a7-b94d-7cbb655b3f71"
   },
   "outputs": [
    {
     "data": {
      "text/plain": [
       "0    282686\n",
       "1     24825\n",
       "Name: TARGET, dtype: int64"
      ]
     },
     "execution_count": 71,
     "metadata": {},
     "output_type": "execute_result"
    }
   ],
   "source": [
    "df_dummy['TARGET'].value_counts()"
   ]
  },
  {
   "cell_type": "code",
   "execution_count": 72,
   "metadata": {
    "colab": {
     "base_uri": "https://localhost:8080/",
     "height": 84
    },
    "colab_type": "code",
    "id": "F8fI-tVSv6eH",
    "outputId": "857bf80f-2191-4ce1-e628-e3cb82441a73"
   },
   "outputs": [
    {
     "data": {
      "text/plain": [
       "0    282686\n",
       "1     24825\n",
       "Name: TARGET, dtype: int64"
      ]
     },
     "execution_count": 72,
     "metadata": {},
     "output_type": "execute_result"
    }
   ],
   "source": [
    "df['TARGET'].value_counts()"
   ]
  },
  {
   "cell_type": "code",
   "execution_count": null,
   "metadata": {
    "colab": {},
    "colab_type": "code",
    "id": "xsKeKgOCi3Xs"
   },
   "outputs": [],
   "source": [
    "# # Scale each feature to 0-1\n",
    "\n",
    "# from sklearn.preprocessing import MinMaxScaler\n",
    "\n",
    "# scaler = MinMaxScaler(feature_range = (0, 1))\n",
    "\n",
    "# scaler.fit(train_test_merged_dummy)\n",
    "# train_test_merged_dummy = pd.DataFrame(scaler.transform(train_test_merged_dummy))\n",
    "\n",
    "# train_test_merged_dummy.columns = features\n",
    "# train_test_merged_dummy.head()"
   ]
  },
  {
   "cell_type": "markdown",
   "metadata": {
    "colab_type": "text",
    "id": "5_JPKziTcjPO"
   },
   "source": [
    "**##** \"train\" and \"test\" are our processed and cleaned data"
   ]
  },
  {
   "cell_type": "code",
   "execution_count": 73,
   "metadata": {
    "colab": {
     "base_uri": "https://localhost:8080/",
     "height": 118
    },
    "colab_type": "code",
    "id": "_yJLSBfV7-Qc",
    "outputId": "451b69da-22a6-4757-adf1-6a5d7b589383"
   },
   "outputs": [
    {
     "data": {
      "text/plain": [
       "0    1\n",
       "1    0\n",
       "2    0\n",
       "3    0\n",
       "4    0\n",
       "Name: TARGET, dtype: int64"
      ]
     },
     "execution_count": 73,
     "metadata": {},
     "output_type": "execute_result"
    }
   ],
   "source": [
    "# y will be target variable\n",
    "y = df['TARGET'].copy()\n",
    "y.head()"
   ]
  },
  {
   "cell_type": "code",
   "execution_count": 75,
   "metadata": {
    "colab": {
     "base_uri": "https://localhost:8080/",
     "height": 34
    },
    "colab_type": "code",
    "id": "u9G-Ux6V8plO",
    "outputId": "e8166f45-b485-4ce3-d172-236ef839f39a"
   },
   "outputs": [
    {
     "data": {
      "text/plain": [
       "((307511, 127), (307511, 127))"
      ]
     },
     "execution_count": 75,
     "metadata": {},
     "output_type": "execute_result"
    }
   ],
   "source": [
    "# removing target variable from train, we already have separate target variable field in the above step. Also SK_ID_CURR is just serial number so removing them\n",
    "train = df.drop(columns = ['TARGET'])\n",
    "train.shape, train.shape"
   ]
  },
  {
   "cell_type": "markdown",
   "metadata": {
    "colab_type": "text",
    "id": "RzE6baUagbau"
   },
   "source": [
    "**Treating Data Imbalance - Oversampling using SMOTE**"
   ]
  },
  {
   "cell_type": "code",
   "execution_count": 80,
   "metadata": {},
   "outputs": [
    {
     "data": {
      "text/html": [
       "<div>\n",
       "<style scoped>\n",
       "    .dataframe tbody tr th:only-of-type {\n",
       "        vertical-align: middle;\n",
       "    }\n",
       "\n",
       "    .dataframe tbody tr th {\n",
       "        vertical-align: top;\n",
       "    }\n",
       "\n",
       "    .dataframe thead th {\n",
       "        text-align: right;\n",
       "    }\n",
       "</style>\n",
       "<table border=\"1\" class=\"dataframe\">\n",
       "  <thead>\n",
       "    <tr style=\"text-align: right;\">\n",
       "      <th></th>\n",
       "      <th>SK_ID_CURR</th>\n",
       "      <th>TARGET</th>\n",
       "      <th>NAME_CONTRACT_TYPE</th>\n",
       "      <th>CODE_GENDER</th>\n",
       "      <th>FLAG_OWN_CAR</th>\n",
       "      <th>FLAG_OWN_REALTY</th>\n",
       "      <th>CNT_CHILDREN</th>\n",
       "      <th>AMT_INCOME_TOTAL</th>\n",
       "      <th>AMT_CREDIT</th>\n",
       "      <th>AMT_ANNUITY</th>\n",
       "      <th>AMT_GOODS_PRICE</th>\n",
       "      <th>NAME_TYPE_SUITE</th>\n",
       "      <th>NAME_INCOME_TYPE</th>\n",
       "      <th>NAME_EDUCATION_TYPE</th>\n",
       "      <th>NAME_FAMILY_STATUS</th>\n",
       "      <th>NAME_HOUSING_TYPE</th>\n",
       "      <th>REGION_POPULATION_RELATIVE</th>\n",
       "      <th>DAYS_BIRTH</th>\n",
       "      <th>DAYS_EMPLOYED</th>\n",
       "      <th>DAYS_REGISTRATION</th>\n",
       "      <th>DAYS_ID_PUBLISH</th>\n",
       "      <th>OWN_CAR_AGE</th>\n",
       "      <th>FLAG_MOBIL</th>\n",
       "      <th>FLAG_EMP_PHONE</th>\n",
       "      <th>FLAG_WORK_PHONE</th>\n",
       "      <th>FLAG_CONT_MOBILE</th>\n",
       "      <th>FLAG_PHONE</th>\n",
       "      <th>FLAG_EMAIL</th>\n",
       "      <th>OCCUPATION_TYPE</th>\n",
       "      <th>CNT_FAM_MEMBERS</th>\n",
       "      <th>REGION_RATING_CLIENT</th>\n",
       "      <th>REGION_RATING_CLIENT_W_CITY</th>\n",
       "      <th>WEEKDAY_APPR_PROCESS_START</th>\n",
       "      <th>HOUR_APPR_PROCESS_START</th>\n",
       "      <th>REG_REGION_NOT_LIVE_REGION</th>\n",
       "      <th>REG_REGION_NOT_WORK_REGION</th>\n",
       "      <th>LIVE_REGION_NOT_WORK_REGION</th>\n",
       "      <th>REG_CITY_NOT_LIVE_CITY</th>\n",
       "      <th>REG_CITY_NOT_WORK_CITY</th>\n",
       "      <th>LIVE_CITY_NOT_WORK_CITY</th>\n",
       "      <th>ORGANIZATION_TYPE</th>\n",
       "      <th>EXT_SOURCE_1</th>\n",
       "      <th>EXT_SOURCE_2</th>\n",
       "      <th>EXT_SOURCE_3</th>\n",
       "      <th>APARTMENTS_AVG</th>\n",
       "      <th>BASEMENTAREA_AVG</th>\n",
       "      <th>YEARS_BEGINEXPLUATATION_AVG</th>\n",
       "      <th>YEARS_BUILD_AVG</th>\n",
       "      <th>COMMONAREA_AVG</th>\n",
       "      <th>ELEVATORS_AVG</th>\n",
       "      <th>ENTRANCES_AVG</th>\n",
       "      <th>FLOORSMAX_AVG</th>\n",
       "      <th>FLOORSMIN_AVG</th>\n",
       "      <th>LANDAREA_AVG</th>\n",
       "      <th>LIVINGAPARTMENTS_AVG</th>\n",
       "      <th>LIVINGAREA_AVG</th>\n",
       "      <th>NONLIVINGAPARTMENTS_AVG</th>\n",
       "      <th>NONLIVINGAREA_AVG</th>\n",
       "      <th>APARTMENTS_MODE</th>\n",
       "      <th>BASEMENTAREA_MODE</th>\n",
       "      <th>YEARS_BEGINEXPLUATATION_MODE</th>\n",
       "      <th>YEARS_BUILD_MODE</th>\n",
       "      <th>COMMONAREA_MODE</th>\n",
       "      <th>ELEVATORS_MODE</th>\n",
       "      <th>ENTRANCES_MODE</th>\n",
       "      <th>FLOORSMAX_MODE</th>\n",
       "      <th>FLOORSMIN_MODE</th>\n",
       "      <th>LANDAREA_MODE</th>\n",
       "      <th>LIVINGAPARTMENTS_MODE</th>\n",
       "      <th>LIVINGAREA_MODE</th>\n",
       "      <th>NONLIVINGAPARTMENTS_MODE</th>\n",
       "      <th>NONLIVINGAREA_MODE</th>\n",
       "      <th>APARTMENTS_MEDI</th>\n",
       "      <th>BASEMENTAREA_MEDI</th>\n",
       "      <th>YEARS_BEGINEXPLUATATION_MEDI</th>\n",
       "      <th>YEARS_BUILD_MEDI</th>\n",
       "      <th>COMMONAREA_MEDI</th>\n",
       "      <th>ELEVATORS_MEDI</th>\n",
       "      <th>ENTRANCES_MEDI</th>\n",
       "      <th>FLOORSMAX_MEDI</th>\n",
       "      <th>FLOORSMIN_MEDI</th>\n",
       "      <th>LANDAREA_MEDI</th>\n",
       "      <th>LIVINGAPARTMENTS_MEDI</th>\n",
       "      <th>LIVINGAREA_MEDI</th>\n",
       "      <th>NONLIVINGAPARTMENTS_MEDI</th>\n",
       "      <th>NONLIVINGAREA_MEDI</th>\n",
       "      <th>FONDKAPREMONT_MODE</th>\n",
       "      <th>HOUSETYPE_MODE</th>\n",
       "      <th>TOTALAREA_MODE</th>\n",
       "      <th>WALLSMATERIAL_MODE</th>\n",
       "      <th>EMERGENCYSTATE_MODE</th>\n",
       "      <th>OBS_30_CNT_SOCIAL_CIRCLE</th>\n",
       "      <th>DEF_30_CNT_SOCIAL_CIRCLE</th>\n",
       "      <th>OBS_60_CNT_SOCIAL_CIRCLE</th>\n",
       "      <th>DEF_60_CNT_SOCIAL_CIRCLE</th>\n",
       "      <th>DAYS_LAST_PHONE_CHANGE</th>\n",
       "      <th>FLAG_DOCUMENT_2</th>\n",
       "      <th>FLAG_DOCUMENT_3</th>\n",
       "      <th>FLAG_DOCUMENT_4</th>\n",
       "      <th>FLAG_DOCUMENT_5</th>\n",
       "      <th>FLAG_DOCUMENT_6</th>\n",
       "      <th>FLAG_DOCUMENT_7</th>\n",
       "      <th>FLAG_DOCUMENT_8</th>\n",
       "      <th>FLAG_DOCUMENT_9</th>\n",
       "      <th>FLAG_DOCUMENT_10</th>\n",
       "      <th>FLAG_DOCUMENT_11</th>\n",
       "      <th>FLAG_DOCUMENT_12</th>\n",
       "      <th>FLAG_DOCUMENT_13</th>\n",
       "      <th>FLAG_DOCUMENT_14</th>\n",
       "      <th>FLAG_DOCUMENT_15</th>\n",
       "      <th>FLAG_DOCUMENT_16</th>\n",
       "      <th>FLAG_DOCUMENT_17</th>\n",
       "      <th>FLAG_DOCUMENT_18</th>\n",
       "      <th>FLAG_DOCUMENT_19</th>\n",
       "      <th>FLAG_DOCUMENT_20</th>\n",
       "      <th>FLAG_DOCUMENT_21</th>\n",
       "      <th>AMT_REQ_CREDIT_BUREAU_HOUR</th>\n",
       "      <th>AMT_REQ_CREDIT_BUREAU_DAY</th>\n",
       "      <th>AMT_REQ_CREDIT_BUREAU_WEEK</th>\n",
       "      <th>AMT_REQ_CREDIT_BUREAU_MON</th>\n",
       "      <th>AMT_REQ_CREDIT_BUREAU_QRT</th>\n",
       "      <th>AMT_REQ_CREDIT_BUREAU_YEAR</th>\n",
       "      <th>YEARS_EMPLOYED</th>\n",
       "      <th>YEARS_BIRTH</th>\n",
       "      <th>FAMILY SIZE</th>\n",
       "      <th>IS_CHILDREN</th>\n",
       "      <th>credit_income_ratio</th>\n",
       "      <th>annuity_income_ratio</th>\n",
       "    </tr>\n",
       "  </thead>\n",
       "  <tbody>\n",
       "    <tr>\n",
       "      <th>0</th>\n",
       "      <td>100002</td>\n",
       "      <td>1</td>\n",
       "      <td>Cash loans</td>\n",
       "      <td>M</td>\n",
       "      <td>N</td>\n",
       "      <td>Y</td>\n",
       "      <td>0</td>\n",
       "      <td>202500.0</td>\n",
       "      <td>406597.5</td>\n",
       "      <td>24700.5</td>\n",
       "      <td>351000.0</td>\n",
       "      <td>Unaccompanied</td>\n",
       "      <td>Working</td>\n",
       "      <td>Secondary / secondary special</td>\n",
       "      <td>Single / not married</td>\n",
       "      <td>House / apartment</td>\n",
       "      <td>0.018801</td>\n",
       "      <td>9461</td>\n",
       "      <td>637.0</td>\n",
       "      <td>-3648.0</td>\n",
       "      <td>-2120</td>\n",
       "      <td>0.0</td>\n",
       "      <td>1</td>\n",
       "      <td>1</td>\n",
       "      <td>0</td>\n",
       "      <td>1</td>\n",
       "      <td>1</td>\n",
       "      <td>0</td>\n",
       "      <td>Laborers</td>\n",
       "      <td>1.0</td>\n",
       "      <td>2</td>\n",
       "      <td>2</td>\n",
       "      <td>WEDNESDAY</td>\n",
       "      <td>10</td>\n",
       "      <td>0</td>\n",
       "      <td>0</td>\n",
       "      <td>0</td>\n",
       "      <td>0</td>\n",
       "      <td>0</td>\n",
       "      <td>0</td>\n",
       "      <td>Business Entity Type 3</td>\n",
       "      <td>0.083037</td>\n",
       "      <td>0.262949</td>\n",
       "      <td>0.139376</td>\n",
       "      <td>0.0247</td>\n",
       "      <td>0.0369</td>\n",
       "      <td>0.9722</td>\n",
       "      <td>0.6192</td>\n",
       "      <td>0.0143</td>\n",
       "      <td>0.00</td>\n",
       "      <td>0.0690</td>\n",
       "      <td>0.0833</td>\n",
       "      <td>0.1250</td>\n",
       "      <td>0.0369</td>\n",
       "      <td>0.0202</td>\n",
       "      <td>0.0190</td>\n",
       "      <td>0.0000</td>\n",
       "      <td>0.0000</td>\n",
       "      <td>0.0252</td>\n",
       "      <td>0.0383</td>\n",
       "      <td>0.9722</td>\n",
       "      <td>0.6341</td>\n",
       "      <td>0.0144</td>\n",
       "      <td>0.0000</td>\n",
       "      <td>0.0690</td>\n",
       "      <td>0.0833</td>\n",
       "      <td>0.1250</td>\n",
       "      <td>0.0377</td>\n",
       "      <td>0.022</td>\n",
       "      <td>0.0198</td>\n",
       "      <td>0.0</td>\n",
       "      <td>0.0</td>\n",
       "      <td>0.0250</td>\n",
       "      <td>0.0369</td>\n",
       "      <td>0.9722</td>\n",
       "      <td>0.6243</td>\n",
       "      <td>0.0144</td>\n",
       "      <td>0.00</td>\n",
       "      <td>0.0690</td>\n",
       "      <td>0.0833</td>\n",
       "      <td>0.1250</td>\n",
       "      <td>0.0375</td>\n",
       "      <td>0.0205</td>\n",
       "      <td>0.0193</td>\n",
       "      <td>0.0000</td>\n",
       "      <td>0.00</td>\n",
       "      <td>reg oper account</td>\n",
       "      <td>block of flats</td>\n",
       "      <td>0.0149</td>\n",
       "      <td>Stone, brick</td>\n",
       "      <td>No</td>\n",
       "      <td>2.0</td>\n",
       "      <td>2.0</td>\n",
       "      <td>2.0</td>\n",
       "      <td>2.0</td>\n",
       "      <td>-1134.0</td>\n",
       "      <td>0</td>\n",
       "      <td>1</td>\n",
       "      <td>0</td>\n",
       "      <td>0</td>\n",
       "      <td>0</td>\n",
       "      <td>0</td>\n",
       "      <td>0</td>\n",
       "      <td>0</td>\n",
       "      <td>0</td>\n",
       "      <td>0</td>\n",
       "      <td>0</td>\n",
       "      <td>0</td>\n",
       "      <td>0</td>\n",
       "      <td>0</td>\n",
       "      <td>0</td>\n",
       "      <td>0</td>\n",
       "      <td>0</td>\n",
       "      <td>0</td>\n",
       "      <td>0</td>\n",
       "      <td>0</td>\n",
       "      <td>0.0</td>\n",
       "      <td>0.0</td>\n",
       "      <td>0.0</td>\n",
       "      <td>0.0</td>\n",
       "      <td>0.0</td>\n",
       "      <td>1.0</td>\n",
       "      <td>1.745205</td>\n",
       "      <td>25.920548</td>\n",
       "      <td>(0.0, 1.0]</td>\n",
       "      <td>0</td>\n",
       "      <td>2.007889</td>\n",
       "      <td>0.121978</td>\n",
       "    </tr>\n",
       "    <tr>\n",
       "      <th>1</th>\n",
       "      <td>100003</td>\n",
       "      <td>0</td>\n",
       "      <td>Cash loans</td>\n",
       "      <td>F</td>\n",
       "      <td>N</td>\n",
       "      <td>N</td>\n",
       "      <td>0</td>\n",
       "      <td>270000.0</td>\n",
       "      <td>1293502.5</td>\n",
       "      <td>35698.5</td>\n",
       "      <td>1129500.0</td>\n",
       "      <td>Family</td>\n",
       "      <td>State servant</td>\n",
       "      <td>Higher education</td>\n",
       "      <td>Married</td>\n",
       "      <td>House / apartment</td>\n",
       "      <td>0.003541</td>\n",
       "      <td>16765</td>\n",
       "      <td>1188.0</td>\n",
       "      <td>-1186.0</td>\n",
       "      <td>-291</td>\n",
       "      <td>0.0</td>\n",
       "      <td>1</td>\n",
       "      <td>1</td>\n",
       "      <td>0</td>\n",
       "      <td>1</td>\n",
       "      <td>1</td>\n",
       "      <td>0</td>\n",
       "      <td>Core staff</td>\n",
       "      <td>2.0</td>\n",
       "      <td>1</td>\n",
       "      <td>1</td>\n",
       "      <td>MONDAY</td>\n",
       "      <td>11</td>\n",
       "      <td>0</td>\n",
       "      <td>0</td>\n",
       "      <td>0</td>\n",
       "      <td>0</td>\n",
       "      <td>0</td>\n",
       "      <td>0</td>\n",
       "      <td>School</td>\n",
       "      <td>0.311267</td>\n",
       "      <td>0.622246</td>\n",
       "      <td>0.535276</td>\n",
       "      <td>0.0959</td>\n",
       "      <td>0.0529</td>\n",
       "      <td>0.9851</td>\n",
       "      <td>0.7960</td>\n",
       "      <td>0.0605</td>\n",
       "      <td>0.08</td>\n",
       "      <td>0.0345</td>\n",
       "      <td>0.2917</td>\n",
       "      <td>0.3333</td>\n",
       "      <td>0.0130</td>\n",
       "      <td>0.0773</td>\n",
       "      <td>0.0549</td>\n",
       "      <td>0.0039</td>\n",
       "      <td>0.0098</td>\n",
       "      <td>0.0924</td>\n",
       "      <td>0.0538</td>\n",
       "      <td>0.9851</td>\n",
       "      <td>0.8040</td>\n",
       "      <td>0.0497</td>\n",
       "      <td>0.0806</td>\n",
       "      <td>0.0345</td>\n",
       "      <td>0.2917</td>\n",
       "      <td>0.3333</td>\n",
       "      <td>0.0128</td>\n",
       "      <td>0.079</td>\n",
       "      <td>0.0554</td>\n",
       "      <td>0.0</td>\n",
       "      <td>0.0</td>\n",
       "      <td>0.0968</td>\n",
       "      <td>0.0529</td>\n",
       "      <td>0.9851</td>\n",
       "      <td>0.7987</td>\n",
       "      <td>0.0608</td>\n",
       "      <td>0.08</td>\n",
       "      <td>0.0345</td>\n",
       "      <td>0.2917</td>\n",
       "      <td>0.3333</td>\n",
       "      <td>0.0132</td>\n",
       "      <td>0.0787</td>\n",
       "      <td>0.0558</td>\n",
       "      <td>0.0039</td>\n",
       "      <td>0.01</td>\n",
       "      <td>reg oper account</td>\n",
       "      <td>block of flats</td>\n",
       "      <td>0.0714</td>\n",
       "      <td>Block</td>\n",
       "      <td>No</td>\n",
       "      <td>1.0</td>\n",
       "      <td>0.0</td>\n",
       "      <td>1.0</td>\n",
       "      <td>0.0</td>\n",
       "      <td>-828.0</td>\n",
       "      <td>0</td>\n",
       "      <td>1</td>\n",
       "      <td>0</td>\n",
       "      <td>0</td>\n",
       "      <td>0</td>\n",
       "      <td>0</td>\n",
       "      <td>0</td>\n",
       "      <td>0</td>\n",
       "      <td>0</td>\n",
       "      <td>0</td>\n",
       "      <td>0</td>\n",
       "      <td>0</td>\n",
       "      <td>0</td>\n",
       "      <td>0</td>\n",
       "      <td>0</td>\n",
       "      <td>0</td>\n",
       "      <td>0</td>\n",
       "      <td>0</td>\n",
       "      <td>0</td>\n",
       "      <td>0</td>\n",
       "      <td>0.0</td>\n",
       "      <td>0.0</td>\n",
       "      <td>0.0</td>\n",
       "      <td>0.0</td>\n",
       "      <td>0.0</td>\n",
       "      <td>0.0</td>\n",
       "      <td>3.254795</td>\n",
       "      <td>45.931507</td>\n",
       "      <td>(1.0, 2.0]</td>\n",
       "      <td>0</td>\n",
       "      <td>4.790750</td>\n",
       "      <td>0.132217</td>\n",
       "    </tr>\n",
       "    <tr>\n",
       "      <th>2</th>\n",
       "      <td>100004</td>\n",
       "      <td>0</td>\n",
       "      <td>Revolving loans</td>\n",
       "      <td>M</td>\n",
       "      <td>Y</td>\n",
       "      <td>Y</td>\n",
       "      <td>0</td>\n",
       "      <td>67500.0</td>\n",
       "      <td>135000.0</td>\n",
       "      <td>6750.0</td>\n",
       "      <td>135000.0</td>\n",
       "      <td>Unaccompanied</td>\n",
       "      <td>Working</td>\n",
       "      <td>Secondary / secondary special</td>\n",
       "      <td>Single / not married</td>\n",
       "      <td>House / apartment</td>\n",
       "      <td>0.010032</td>\n",
       "      <td>19046</td>\n",
       "      <td>225.0</td>\n",
       "      <td>-4260.0</td>\n",
       "      <td>-2531</td>\n",
       "      <td>26.0</td>\n",
       "      <td>1</td>\n",
       "      <td>1</td>\n",
       "      <td>1</td>\n",
       "      <td>1</td>\n",
       "      <td>1</td>\n",
       "      <td>0</td>\n",
       "      <td>Laborers</td>\n",
       "      <td>1.0</td>\n",
       "      <td>2</td>\n",
       "      <td>2</td>\n",
       "      <td>MONDAY</td>\n",
       "      <td>9</td>\n",
       "      <td>0</td>\n",
       "      <td>0</td>\n",
       "      <td>0</td>\n",
       "      <td>0</td>\n",
       "      <td>0</td>\n",
       "      <td>0</td>\n",
       "      <td>Government</td>\n",
       "      <td>0.000000</td>\n",
       "      <td>0.555912</td>\n",
       "      <td>0.729567</td>\n",
       "      <td>0.0000</td>\n",
       "      <td>0.0000</td>\n",
       "      <td>0.0000</td>\n",
       "      <td>0.0000</td>\n",
       "      <td>0.0000</td>\n",
       "      <td>0.00</td>\n",
       "      <td>0.0000</td>\n",
       "      <td>0.0000</td>\n",
       "      <td>0.0000</td>\n",
       "      <td>0.0000</td>\n",
       "      <td>0.0000</td>\n",
       "      <td>0.0000</td>\n",
       "      <td>0.0000</td>\n",
       "      <td>0.0000</td>\n",
       "      <td>0.0000</td>\n",
       "      <td>0.0000</td>\n",
       "      <td>0.0000</td>\n",
       "      <td>0.0000</td>\n",
       "      <td>0.0000</td>\n",
       "      <td>0.0000</td>\n",
       "      <td>0.0000</td>\n",
       "      <td>0.0000</td>\n",
       "      <td>0.0000</td>\n",
       "      <td>0.0000</td>\n",
       "      <td>0.000</td>\n",
       "      <td>0.0000</td>\n",
       "      <td>0.0</td>\n",
       "      <td>0.0</td>\n",
       "      <td>0.0000</td>\n",
       "      <td>0.0000</td>\n",
       "      <td>0.0000</td>\n",
       "      <td>0.0000</td>\n",
       "      <td>0.0000</td>\n",
       "      <td>0.00</td>\n",
       "      <td>0.0000</td>\n",
       "      <td>0.0000</td>\n",
       "      <td>0.0000</td>\n",
       "      <td>0.0000</td>\n",
       "      <td>0.0000</td>\n",
       "      <td>0.0000</td>\n",
       "      <td>0.0000</td>\n",
       "      <td>0.00</td>\n",
       "      <td>0</td>\n",
       "      <td>0</td>\n",
       "      <td>0.0000</td>\n",
       "      <td>0</td>\n",
       "      <td>0</td>\n",
       "      <td>0.0</td>\n",
       "      <td>0.0</td>\n",
       "      <td>0.0</td>\n",
       "      <td>0.0</td>\n",
       "      <td>-815.0</td>\n",
       "      <td>0</td>\n",
       "      <td>0</td>\n",
       "      <td>0</td>\n",
       "      <td>0</td>\n",
       "      <td>0</td>\n",
       "      <td>0</td>\n",
       "      <td>0</td>\n",
       "      <td>0</td>\n",
       "      <td>0</td>\n",
       "      <td>0</td>\n",
       "      <td>0</td>\n",
       "      <td>0</td>\n",
       "      <td>0</td>\n",
       "      <td>0</td>\n",
       "      <td>0</td>\n",
       "      <td>0</td>\n",
       "      <td>0</td>\n",
       "      <td>0</td>\n",
       "      <td>0</td>\n",
       "      <td>0</td>\n",
       "      <td>0.0</td>\n",
       "      <td>0.0</td>\n",
       "      <td>0.0</td>\n",
       "      <td>0.0</td>\n",
       "      <td>0.0</td>\n",
       "      <td>0.0</td>\n",
       "      <td>0.616438</td>\n",
       "      <td>52.180822</td>\n",
       "      <td>(0.0, 1.0]</td>\n",
       "      <td>0</td>\n",
       "      <td>2.000000</td>\n",
       "      <td>0.100000</td>\n",
       "    </tr>\n",
       "    <tr>\n",
       "      <th>3</th>\n",
       "      <td>100006</td>\n",
       "      <td>0</td>\n",
       "      <td>Cash loans</td>\n",
       "      <td>F</td>\n",
       "      <td>N</td>\n",
       "      <td>Y</td>\n",
       "      <td>0</td>\n",
       "      <td>135000.0</td>\n",
       "      <td>312682.5</td>\n",
       "      <td>29686.5</td>\n",
       "      <td>297000.0</td>\n",
       "      <td>Unaccompanied</td>\n",
       "      <td>Working</td>\n",
       "      <td>Secondary / secondary special</td>\n",
       "      <td>Civil marriage</td>\n",
       "      <td>House / apartment</td>\n",
       "      <td>0.008019</td>\n",
       "      <td>19005</td>\n",
       "      <td>3039.0</td>\n",
       "      <td>-9833.0</td>\n",
       "      <td>-2437</td>\n",
       "      <td>0.0</td>\n",
       "      <td>1</td>\n",
       "      <td>1</td>\n",
       "      <td>0</td>\n",
       "      <td>1</td>\n",
       "      <td>0</td>\n",
       "      <td>0</td>\n",
       "      <td>Laborers</td>\n",
       "      <td>2.0</td>\n",
       "      <td>2</td>\n",
       "      <td>2</td>\n",
       "      <td>WEDNESDAY</td>\n",
       "      <td>17</td>\n",
       "      <td>0</td>\n",
       "      <td>0</td>\n",
       "      <td>0</td>\n",
       "      <td>0</td>\n",
       "      <td>0</td>\n",
       "      <td>0</td>\n",
       "      <td>Business Entity Type 3</td>\n",
       "      <td>0.000000</td>\n",
       "      <td>0.650442</td>\n",
       "      <td>0.535276</td>\n",
       "      <td>0.0000</td>\n",
       "      <td>0.0000</td>\n",
       "      <td>0.0000</td>\n",
       "      <td>0.0000</td>\n",
       "      <td>0.0000</td>\n",
       "      <td>0.00</td>\n",
       "      <td>0.0000</td>\n",
       "      <td>0.0000</td>\n",
       "      <td>0.0000</td>\n",
       "      <td>0.0000</td>\n",
       "      <td>0.0000</td>\n",
       "      <td>0.0000</td>\n",
       "      <td>0.0000</td>\n",
       "      <td>0.0000</td>\n",
       "      <td>0.0000</td>\n",
       "      <td>0.0000</td>\n",
       "      <td>0.0000</td>\n",
       "      <td>0.0000</td>\n",
       "      <td>0.0000</td>\n",
       "      <td>0.0000</td>\n",
       "      <td>0.0000</td>\n",
       "      <td>0.0000</td>\n",
       "      <td>0.0000</td>\n",
       "      <td>0.0000</td>\n",
       "      <td>0.000</td>\n",
       "      <td>0.0000</td>\n",
       "      <td>0.0</td>\n",
       "      <td>0.0</td>\n",
       "      <td>0.0000</td>\n",
       "      <td>0.0000</td>\n",
       "      <td>0.0000</td>\n",
       "      <td>0.0000</td>\n",
       "      <td>0.0000</td>\n",
       "      <td>0.00</td>\n",
       "      <td>0.0000</td>\n",
       "      <td>0.0000</td>\n",
       "      <td>0.0000</td>\n",
       "      <td>0.0000</td>\n",
       "      <td>0.0000</td>\n",
       "      <td>0.0000</td>\n",
       "      <td>0.0000</td>\n",
       "      <td>0.00</td>\n",
       "      <td>0</td>\n",
       "      <td>0</td>\n",
       "      <td>0.0000</td>\n",
       "      <td>0</td>\n",
       "      <td>0</td>\n",
       "      <td>2.0</td>\n",
       "      <td>0.0</td>\n",
       "      <td>2.0</td>\n",
       "      <td>0.0</td>\n",
       "      <td>-617.0</td>\n",
       "      <td>0</td>\n",
       "      <td>1</td>\n",
       "      <td>0</td>\n",
       "      <td>0</td>\n",
       "      <td>0</td>\n",
       "      <td>0</td>\n",
       "      <td>0</td>\n",
       "      <td>0</td>\n",
       "      <td>0</td>\n",
       "      <td>0</td>\n",
       "      <td>0</td>\n",
       "      <td>0</td>\n",
       "      <td>0</td>\n",
       "      <td>0</td>\n",
       "      <td>0</td>\n",
       "      <td>0</td>\n",
       "      <td>0</td>\n",
       "      <td>0</td>\n",
       "      <td>0</td>\n",
       "      <td>0</td>\n",
       "      <td>0.0</td>\n",
       "      <td>0.0</td>\n",
       "      <td>0.0</td>\n",
       "      <td>0.0</td>\n",
       "      <td>0.0</td>\n",
       "      <td>0.0</td>\n",
       "      <td>8.326027</td>\n",
       "      <td>52.068493</td>\n",
       "      <td>(1.0, 2.0]</td>\n",
       "      <td>0</td>\n",
       "      <td>2.316167</td>\n",
       "      <td>0.219900</td>\n",
       "    </tr>\n",
       "    <tr>\n",
       "      <th>4</th>\n",
       "      <td>100007</td>\n",
       "      <td>0</td>\n",
       "      <td>Cash loans</td>\n",
       "      <td>M</td>\n",
       "      <td>N</td>\n",
       "      <td>Y</td>\n",
       "      <td>0</td>\n",
       "      <td>121500.0</td>\n",
       "      <td>513000.0</td>\n",
       "      <td>21865.5</td>\n",
       "      <td>513000.0</td>\n",
       "      <td>Unaccompanied</td>\n",
       "      <td>Working</td>\n",
       "      <td>Secondary / secondary special</td>\n",
       "      <td>Single / not married</td>\n",
       "      <td>House / apartment</td>\n",
       "      <td>0.028663</td>\n",
       "      <td>19932</td>\n",
       "      <td>3038.0</td>\n",
       "      <td>-4311.0</td>\n",
       "      <td>-3458</td>\n",
       "      <td>0.0</td>\n",
       "      <td>1</td>\n",
       "      <td>1</td>\n",
       "      <td>0</td>\n",
       "      <td>1</td>\n",
       "      <td>0</td>\n",
       "      <td>0</td>\n",
       "      <td>Core staff</td>\n",
       "      <td>1.0</td>\n",
       "      <td>2</td>\n",
       "      <td>2</td>\n",
       "      <td>THURSDAY</td>\n",
       "      <td>11</td>\n",
       "      <td>0</td>\n",
       "      <td>0</td>\n",
       "      <td>0</td>\n",
       "      <td>0</td>\n",
       "      <td>1</td>\n",
       "      <td>1</td>\n",
       "      <td>Religion</td>\n",
       "      <td>0.000000</td>\n",
       "      <td>0.322738</td>\n",
       "      <td>0.535276</td>\n",
       "      <td>0.0000</td>\n",
       "      <td>0.0000</td>\n",
       "      <td>0.0000</td>\n",
       "      <td>0.0000</td>\n",
       "      <td>0.0000</td>\n",
       "      <td>0.00</td>\n",
       "      <td>0.0000</td>\n",
       "      <td>0.0000</td>\n",
       "      <td>0.0000</td>\n",
       "      <td>0.0000</td>\n",
       "      <td>0.0000</td>\n",
       "      <td>0.0000</td>\n",
       "      <td>0.0000</td>\n",
       "      <td>0.0000</td>\n",
       "      <td>0.0000</td>\n",
       "      <td>0.0000</td>\n",
       "      <td>0.0000</td>\n",
       "      <td>0.0000</td>\n",
       "      <td>0.0000</td>\n",
       "      <td>0.0000</td>\n",
       "      <td>0.0000</td>\n",
       "      <td>0.0000</td>\n",
       "      <td>0.0000</td>\n",
       "      <td>0.0000</td>\n",
       "      <td>0.000</td>\n",
       "      <td>0.0000</td>\n",
       "      <td>0.0</td>\n",
       "      <td>0.0</td>\n",
       "      <td>0.0000</td>\n",
       "      <td>0.0000</td>\n",
       "      <td>0.0000</td>\n",
       "      <td>0.0000</td>\n",
       "      <td>0.0000</td>\n",
       "      <td>0.00</td>\n",
       "      <td>0.0000</td>\n",
       "      <td>0.0000</td>\n",
       "      <td>0.0000</td>\n",
       "      <td>0.0000</td>\n",
       "      <td>0.0000</td>\n",
       "      <td>0.0000</td>\n",
       "      <td>0.0000</td>\n",
       "      <td>0.00</td>\n",
       "      <td>0</td>\n",
       "      <td>0</td>\n",
       "      <td>0.0000</td>\n",
       "      <td>0</td>\n",
       "      <td>0</td>\n",
       "      <td>0.0</td>\n",
       "      <td>0.0</td>\n",
       "      <td>0.0</td>\n",
       "      <td>0.0</td>\n",
       "      <td>-1106.0</td>\n",
       "      <td>0</td>\n",
       "      <td>0</td>\n",
       "      <td>0</td>\n",
       "      <td>0</td>\n",
       "      <td>0</td>\n",
       "      <td>0</td>\n",
       "      <td>1</td>\n",
       "      <td>0</td>\n",
       "      <td>0</td>\n",
       "      <td>0</td>\n",
       "      <td>0</td>\n",
       "      <td>0</td>\n",
       "      <td>0</td>\n",
       "      <td>0</td>\n",
       "      <td>0</td>\n",
       "      <td>0</td>\n",
       "      <td>0</td>\n",
       "      <td>0</td>\n",
       "      <td>0</td>\n",
       "      <td>0</td>\n",
       "      <td>0.0</td>\n",
       "      <td>0.0</td>\n",
       "      <td>0.0</td>\n",
       "      <td>0.0</td>\n",
       "      <td>0.0</td>\n",
       "      <td>0.0</td>\n",
       "      <td>8.323288</td>\n",
       "      <td>54.608219</td>\n",
       "      <td>(0.0, 1.0]</td>\n",
       "      <td>0</td>\n",
       "      <td>4.222222</td>\n",
       "      <td>0.179963</td>\n",
       "    </tr>\n",
       "  </tbody>\n",
       "</table>\n",
       "</div>"
      ],
      "text/plain": [
       "   SK_ID_CURR  TARGET NAME_CONTRACT_TYPE CODE_GENDER FLAG_OWN_CAR  \\\n",
       "0      100002       1         Cash loans           M            N   \n",
       "1      100003       0         Cash loans           F            N   \n",
       "2      100004       0    Revolving loans           M            Y   \n",
       "3      100006       0         Cash loans           F            N   \n",
       "4      100007       0         Cash loans           M            N   \n",
       "\n",
       "  FLAG_OWN_REALTY  CNT_CHILDREN  AMT_INCOME_TOTAL  AMT_CREDIT  AMT_ANNUITY  \\\n",
       "0               Y             0          202500.0    406597.5      24700.5   \n",
       "1               N             0          270000.0   1293502.5      35698.5   \n",
       "2               Y             0           67500.0    135000.0       6750.0   \n",
       "3               Y             0          135000.0    312682.5      29686.5   \n",
       "4               Y             0          121500.0    513000.0      21865.5   \n",
       "\n",
       "   AMT_GOODS_PRICE NAME_TYPE_SUITE NAME_INCOME_TYPE  \\\n",
       "0         351000.0   Unaccompanied          Working   \n",
       "1        1129500.0          Family    State servant   \n",
       "2         135000.0   Unaccompanied          Working   \n",
       "3         297000.0   Unaccompanied          Working   \n",
       "4         513000.0   Unaccompanied          Working   \n",
       "\n",
       "             NAME_EDUCATION_TYPE    NAME_FAMILY_STATUS  NAME_HOUSING_TYPE  \\\n",
       "0  Secondary / secondary special  Single / not married  House / apartment   \n",
       "1               Higher education               Married  House / apartment   \n",
       "2  Secondary / secondary special  Single / not married  House / apartment   \n",
       "3  Secondary / secondary special        Civil marriage  House / apartment   \n",
       "4  Secondary / secondary special  Single / not married  House / apartment   \n",
       "\n",
       "   REGION_POPULATION_RELATIVE  DAYS_BIRTH  DAYS_EMPLOYED  DAYS_REGISTRATION  \\\n",
       "0                    0.018801        9461          637.0            -3648.0   \n",
       "1                    0.003541       16765         1188.0            -1186.0   \n",
       "2                    0.010032       19046          225.0            -4260.0   \n",
       "3                    0.008019       19005         3039.0            -9833.0   \n",
       "4                    0.028663       19932         3038.0            -4311.0   \n",
       "\n",
       "   DAYS_ID_PUBLISH  OWN_CAR_AGE  FLAG_MOBIL  FLAG_EMP_PHONE  FLAG_WORK_PHONE  \\\n",
       "0            -2120          0.0           1               1                0   \n",
       "1             -291          0.0           1               1                0   \n",
       "2            -2531         26.0           1               1                1   \n",
       "3            -2437          0.0           1               1                0   \n",
       "4            -3458          0.0           1               1                0   \n",
       "\n",
       "   FLAG_CONT_MOBILE  FLAG_PHONE  FLAG_EMAIL OCCUPATION_TYPE  CNT_FAM_MEMBERS  \\\n",
       "0                 1           1           0        Laborers              1.0   \n",
       "1                 1           1           0      Core staff              2.0   \n",
       "2                 1           1           0        Laborers              1.0   \n",
       "3                 1           0           0        Laborers              2.0   \n",
       "4                 1           0           0      Core staff              1.0   \n",
       "\n",
       "  REGION_RATING_CLIENT REGION_RATING_CLIENT_W_CITY WEEKDAY_APPR_PROCESS_START  \\\n",
       "0                    2                           2                  WEDNESDAY   \n",
       "1                    1                           1                     MONDAY   \n",
       "2                    2                           2                     MONDAY   \n",
       "3                    2                           2                  WEDNESDAY   \n",
       "4                    2                           2                   THURSDAY   \n",
       "\n",
       "   HOUR_APPR_PROCESS_START  REG_REGION_NOT_LIVE_REGION  \\\n",
       "0                       10                           0   \n",
       "1                       11                           0   \n",
       "2                        9                           0   \n",
       "3                       17                           0   \n",
       "4                       11                           0   \n",
       "\n",
       "   REG_REGION_NOT_WORK_REGION  LIVE_REGION_NOT_WORK_REGION  \\\n",
       "0                           0                            0   \n",
       "1                           0                            0   \n",
       "2                           0                            0   \n",
       "3                           0                            0   \n",
       "4                           0                            0   \n",
       "\n",
       "   REG_CITY_NOT_LIVE_CITY  REG_CITY_NOT_WORK_CITY  LIVE_CITY_NOT_WORK_CITY  \\\n",
       "0                       0                       0                        0   \n",
       "1                       0                       0                        0   \n",
       "2                       0                       0                        0   \n",
       "3                       0                       0                        0   \n",
       "4                       0                       1                        1   \n",
       "\n",
       "        ORGANIZATION_TYPE  EXT_SOURCE_1  EXT_SOURCE_2  EXT_SOURCE_3  \\\n",
       "0  Business Entity Type 3      0.083037      0.262949      0.139376   \n",
       "1                  School      0.311267      0.622246      0.535276   \n",
       "2              Government      0.000000      0.555912      0.729567   \n",
       "3  Business Entity Type 3      0.000000      0.650442      0.535276   \n",
       "4                Religion      0.000000      0.322738      0.535276   \n",
       "\n",
       "   APARTMENTS_AVG  BASEMENTAREA_AVG  YEARS_BEGINEXPLUATATION_AVG  \\\n",
       "0          0.0247            0.0369                       0.9722   \n",
       "1          0.0959            0.0529                       0.9851   \n",
       "2          0.0000            0.0000                       0.0000   \n",
       "3          0.0000            0.0000                       0.0000   \n",
       "4          0.0000            0.0000                       0.0000   \n",
       "\n",
       "   YEARS_BUILD_AVG  COMMONAREA_AVG  ELEVATORS_AVG  ENTRANCES_AVG  \\\n",
       "0           0.6192          0.0143           0.00         0.0690   \n",
       "1           0.7960          0.0605           0.08         0.0345   \n",
       "2           0.0000          0.0000           0.00         0.0000   \n",
       "3           0.0000          0.0000           0.00         0.0000   \n",
       "4           0.0000          0.0000           0.00         0.0000   \n",
       "\n",
       "   FLOORSMAX_AVG  FLOORSMIN_AVG  LANDAREA_AVG  LIVINGAPARTMENTS_AVG  \\\n",
       "0         0.0833         0.1250        0.0369                0.0202   \n",
       "1         0.2917         0.3333        0.0130                0.0773   \n",
       "2         0.0000         0.0000        0.0000                0.0000   \n",
       "3         0.0000         0.0000        0.0000                0.0000   \n",
       "4         0.0000         0.0000        0.0000                0.0000   \n",
       "\n",
       "   LIVINGAREA_AVG  NONLIVINGAPARTMENTS_AVG  NONLIVINGAREA_AVG  \\\n",
       "0          0.0190                   0.0000             0.0000   \n",
       "1          0.0549                   0.0039             0.0098   \n",
       "2          0.0000                   0.0000             0.0000   \n",
       "3          0.0000                   0.0000             0.0000   \n",
       "4          0.0000                   0.0000             0.0000   \n",
       "\n",
       "   APARTMENTS_MODE  BASEMENTAREA_MODE  YEARS_BEGINEXPLUATATION_MODE  \\\n",
       "0           0.0252             0.0383                        0.9722   \n",
       "1           0.0924             0.0538                        0.9851   \n",
       "2           0.0000             0.0000                        0.0000   \n",
       "3           0.0000             0.0000                        0.0000   \n",
       "4           0.0000             0.0000                        0.0000   \n",
       "\n",
       "   YEARS_BUILD_MODE  COMMONAREA_MODE  ELEVATORS_MODE  ENTRANCES_MODE  \\\n",
       "0            0.6341           0.0144          0.0000          0.0690   \n",
       "1            0.8040           0.0497          0.0806          0.0345   \n",
       "2            0.0000           0.0000          0.0000          0.0000   \n",
       "3            0.0000           0.0000          0.0000          0.0000   \n",
       "4            0.0000           0.0000          0.0000          0.0000   \n",
       "\n",
       "   FLOORSMAX_MODE  FLOORSMIN_MODE  LANDAREA_MODE  LIVINGAPARTMENTS_MODE  \\\n",
       "0          0.0833          0.1250         0.0377                  0.022   \n",
       "1          0.2917          0.3333         0.0128                  0.079   \n",
       "2          0.0000          0.0000         0.0000                  0.000   \n",
       "3          0.0000          0.0000         0.0000                  0.000   \n",
       "4          0.0000          0.0000         0.0000                  0.000   \n",
       "\n",
       "   LIVINGAREA_MODE  NONLIVINGAPARTMENTS_MODE  NONLIVINGAREA_MODE  \\\n",
       "0           0.0198                       0.0                 0.0   \n",
       "1           0.0554                       0.0                 0.0   \n",
       "2           0.0000                       0.0                 0.0   \n",
       "3           0.0000                       0.0                 0.0   \n",
       "4           0.0000                       0.0                 0.0   \n",
       "\n",
       "   APARTMENTS_MEDI  BASEMENTAREA_MEDI  YEARS_BEGINEXPLUATATION_MEDI  \\\n",
       "0           0.0250             0.0369                        0.9722   \n",
       "1           0.0968             0.0529                        0.9851   \n",
       "2           0.0000             0.0000                        0.0000   \n",
       "3           0.0000             0.0000                        0.0000   \n",
       "4           0.0000             0.0000                        0.0000   \n",
       "\n",
       "   YEARS_BUILD_MEDI  COMMONAREA_MEDI  ELEVATORS_MEDI  ENTRANCES_MEDI  \\\n",
       "0            0.6243           0.0144            0.00          0.0690   \n",
       "1            0.7987           0.0608            0.08          0.0345   \n",
       "2            0.0000           0.0000            0.00          0.0000   \n",
       "3            0.0000           0.0000            0.00          0.0000   \n",
       "4            0.0000           0.0000            0.00          0.0000   \n",
       "\n",
       "   FLOORSMAX_MEDI  FLOORSMIN_MEDI  LANDAREA_MEDI  LIVINGAPARTMENTS_MEDI  \\\n",
       "0          0.0833          0.1250         0.0375                 0.0205   \n",
       "1          0.2917          0.3333         0.0132                 0.0787   \n",
       "2          0.0000          0.0000         0.0000                 0.0000   \n",
       "3          0.0000          0.0000         0.0000                 0.0000   \n",
       "4          0.0000          0.0000         0.0000                 0.0000   \n",
       "\n",
       "   LIVINGAREA_MEDI  NONLIVINGAPARTMENTS_MEDI  NONLIVINGAREA_MEDI  \\\n",
       "0           0.0193                    0.0000                0.00   \n",
       "1           0.0558                    0.0039                0.01   \n",
       "2           0.0000                    0.0000                0.00   \n",
       "3           0.0000                    0.0000                0.00   \n",
       "4           0.0000                    0.0000                0.00   \n",
       "\n",
       "  FONDKAPREMONT_MODE  HOUSETYPE_MODE  TOTALAREA_MODE WALLSMATERIAL_MODE  \\\n",
       "0   reg oper account  block of flats          0.0149       Stone, brick   \n",
       "1   reg oper account  block of flats          0.0714              Block   \n",
       "2                  0               0          0.0000                  0   \n",
       "3                  0               0          0.0000                  0   \n",
       "4                  0               0          0.0000                  0   \n",
       "\n",
       "  EMERGENCYSTATE_MODE  OBS_30_CNT_SOCIAL_CIRCLE  DEF_30_CNT_SOCIAL_CIRCLE  \\\n",
       "0                  No                       2.0                       2.0   \n",
       "1                  No                       1.0                       0.0   \n",
       "2                   0                       0.0                       0.0   \n",
       "3                   0                       2.0                       0.0   \n",
       "4                   0                       0.0                       0.0   \n",
       "\n",
       "   OBS_60_CNT_SOCIAL_CIRCLE  DEF_60_CNT_SOCIAL_CIRCLE  DAYS_LAST_PHONE_CHANGE  \\\n",
       "0                       2.0                       2.0                 -1134.0   \n",
       "1                       1.0                       0.0                  -828.0   \n",
       "2                       0.0                       0.0                  -815.0   \n",
       "3                       2.0                       0.0                  -617.0   \n",
       "4                       0.0                       0.0                 -1106.0   \n",
       "\n",
       "   FLAG_DOCUMENT_2  FLAG_DOCUMENT_3  FLAG_DOCUMENT_4  FLAG_DOCUMENT_5  \\\n",
       "0                0                1                0                0   \n",
       "1                0                1                0                0   \n",
       "2                0                0                0                0   \n",
       "3                0                1                0                0   \n",
       "4                0                0                0                0   \n",
       "\n",
       "   FLAG_DOCUMENT_6  FLAG_DOCUMENT_7  FLAG_DOCUMENT_8  FLAG_DOCUMENT_9  \\\n",
       "0                0                0                0                0   \n",
       "1                0                0                0                0   \n",
       "2                0                0                0                0   \n",
       "3                0                0                0                0   \n",
       "4                0                0                1                0   \n",
       "\n",
       "   FLAG_DOCUMENT_10  FLAG_DOCUMENT_11  FLAG_DOCUMENT_12  FLAG_DOCUMENT_13  \\\n",
       "0                 0                 0                 0                 0   \n",
       "1                 0                 0                 0                 0   \n",
       "2                 0                 0                 0                 0   \n",
       "3                 0                 0                 0                 0   \n",
       "4                 0                 0                 0                 0   \n",
       "\n",
       "   FLAG_DOCUMENT_14  FLAG_DOCUMENT_15  FLAG_DOCUMENT_16  FLAG_DOCUMENT_17  \\\n",
       "0                 0                 0                 0                 0   \n",
       "1                 0                 0                 0                 0   \n",
       "2                 0                 0                 0                 0   \n",
       "3                 0                 0                 0                 0   \n",
       "4                 0                 0                 0                 0   \n",
       "\n",
       "   FLAG_DOCUMENT_18  FLAG_DOCUMENT_19  FLAG_DOCUMENT_20  FLAG_DOCUMENT_21  \\\n",
       "0                 0                 0                 0                 0   \n",
       "1                 0                 0                 0                 0   \n",
       "2                 0                 0                 0                 0   \n",
       "3                 0                 0                 0                 0   \n",
       "4                 0                 0                 0                 0   \n",
       "\n",
       "   AMT_REQ_CREDIT_BUREAU_HOUR  AMT_REQ_CREDIT_BUREAU_DAY  \\\n",
       "0                         0.0                        0.0   \n",
       "1                         0.0                        0.0   \n",
       "2                         0.0                        0.0   \n",
       "3                         0.0                        0.0   \n",
       "4                         0.0                        0.0   \n",
       "\n",
       "   AMT_REQ_CREDIT_BUREAU_WEEK  AMT_REQ_CREDIT_BUREAU_MON  \\\n",
       "0                         0.0                        0.0   \n",
       "1                         0.0                        0.0   \n",
       "2                         0.0                        0.0   \n",
       "3                         0.0                        0.0   \n",
       "4                         0.0                        0.0   \n",
       "\n",
       "   AMT_REQ_CREDIT_BUREAU_QRT  AMT_REQ_CREDIT_BUREAU_YEAR  YEARS_EMPLOYED  \\\n",
       "0                        0.0                         1.0        1.745205   \n",
       "1                        0.0                         0.0        3.254795   \n",
       "2                        0.0                         0.0        0.616438   \n",
       "3                        0.0                         0.0        8.326027   \n",
       "4                        0.0                         0.0        8.323288   \n",
       "\n",
       "   YEARS_BIRTH FAMILY SIZE IS_CHILDREN  credit_income_ratio  \\\n",
       "0    25.920548  (0.0, 1.0]           0             2.007889   \n",
       "1    45.931507  (1.0, 2.0]           0             4.790750   \n",
       "2    52.180822  (0.0, 1.0]           0             2.000000   \n",
       "3    52.068493  (1.0, 2.0]           0             2.316167   \n",
       "4    54.608219  (0.0, 1.0]           0             4.222222   \n",
       "\n",
       "   annuity_income_ratio  \n",
       "0              0.121978  \n",
       "1              0.132217  \n",
       "2              0.100000  \n",
       "3              0.219900  \n",
       "4              0.179963  "
      ]
     },
     "execution_count": 80,
     "metadata": {},
     "output_type": "execute_result"
    }
   ],
   "source": [
    "df.head()"
   ]
  },
  {
   "cell_type": "code",
   "execution_count": 78,
   "metadata": {
    "colab": {},
    "colab_type": "code",
    "id": "SnEMyXdGgrvs"
   },
   "outputs": [],
   "source": [
    "#Split the data using train-test split\n",
    "X_train, X_test, y_train, y_test = train_test_split(train, y, test_size=0.3, random_state=42)"
   ]
  },
  {
   "cell_type": "code",
   "execution_count": 79,
   "metadata": {
    "colab": {},
    "colab_type": "code",
    "id": "UAaO_gwkig0W"
   },
   "outputs": [
    {
     "ename": "ValueError",
     "evalue": "could not convert string to float: 'Cash loans'",
     "output_type": "error",
     "traceback": [
      "\u001b[0;31m---------------------------------------------------------------------------\u001b[0m",
      "\u001b[0;31mValueError\u001b[0m                                Traceback (most recent call last)",
      "\u001b[0;32m<ipython-input-79-2d4a35754447>\u001b[0m in \u001b[0;36m<module>\u001b[0;34m()\u001b[0m\n\u001b[1;32m      1\u001b[0m \u001b[0;31m## SMOTE - faster but need to encode categorical data\u001b[0m\u001b[0;34m\u001b[0m\u001b[0;34m\u001b[0m\u001b[0;34m\u001b[0m\u001b[0m\n\u001b[1;32m      2\u001b[0m \u001b[0;32mfrom\u001b[0m \u001b[0mimblearn\u001b[0m\u001b[0;34m.\u001b[0m\u001b[0mover_sampling\u001b[0m \u001b[0;32mimport\u001b[0m \u001b[0mSMOTE\u001b[0m\u001b[0;34m\u001b[0m\u001b[0;34m\u001b[0m\u001b[0m\n\u001b[0;32m----> 3\u001b[0;31m \u001b[0mtrain_resample\u001b[0m\u001b[0;34m,\u001b[0m \u001b[0my_resample\u001b[0m \u001b[0;34m=\u001b[0m \u001b[0mSMOTE\u001b[0m\u001b[0;34m(\u001b[0m\u001b[0;34m)\u001b[0m\u001b[0;34m.\u001b[0m\u001b[0mfit_resample\u001b[0m\u001b[0;34m(\u001b[0m\u001b[0mX_train\u001b[0m\u001b[0;34m,\u001b[0m\u001b[0my_train\u001b[0m\u001b[0;34m)\u001b[0m\u001b[0;34m\u001b[0m\u001b[0;34m\u001b[0m\u001b[0m\n\u001b[0m\u001b[1;32m      4\u001b[0m \u001b[0;34m\u001b[0m\u001b[0m\n\u001b[1;32m      5\u001b[0m \u001b[0my_resample\u001b[0m \u001b[0;34m=\u001b[0m \u001b[0mpd\u001b[0m\u001b[0;34m.\u001b[0m\u001b[0mSeries\u001b[0m\u001b[0;34m(\u001b[0m\u001b[0my_resample\u001b[0m\u001b[0;34m)\u001b[0m\u001b[0;34m\u001b[0m\u001b[0;34m\u001b[0m\u001b[0m\n",
      "\u001b[0;32m/mnt/disks/user/anaconda3/lib/python3.6/site-packages/imblearn/base.py\u001b[0m in \u001b[0;36mfit_resample\u001b[0;34m(self, X, y)\u001b[0m\n\u001b[1;32m     75\u001b[0m         \u001b[0mcheck_classification_targets\u001b[0m\u001b[0;34m(\u001b[0m\u001b[0my\u001b[0m\u001b[0;34m)\u001b[0m\u001b[0;34m\u001b[0m\u001b[0;34m\u001b[0m\u001b[0m\n\u001b[1;32m     76\u001b[0m         \u001b[0marrays_transformer\u001b[0m \u001b[0;34m=\u001b[0m \u001b[0mArraysTransformer\u001b[0m\u001b[0;34m(\u001b[0m\u001b[0mX\u001b[0m\u001b[0;34m,\u001b[0m \u001b[0my\u001b[0m\u001b[0;34m)\u001b[0m\u001b[0;34m\u001b[0m\u001b[0;34m\u001b[0m\u001b[0m\n\u001b[0;32m---> 77\u001b[0;31m         \u001b[0mX\u001b[0m\u001b[0;34m,\u001b[0m \u001b[0my\u001b[0m\u001b[0;34m,\u001b[0m \u001b[0mbinarize_y\u001b[0m \u001b[0;34m=\u001b[0m \u001b[0mself\u001b[0m\u001b[0;34m.\u001b[0m\u001b[0m_check_X_y\u001b[0m\u001b[0;34m(\u001b[0m\u001b[0mX\u001b[0m\u001b[0;34m,\u001b[0m \u001b[0my\u001b[0m\u001b[0;34m)\u001b[0m\u001b[0;34m\u001b[0m\u001b[0;34m\u001b[0m\u001b[0m\n\u001b[0m\u001b[1;32m     78\u001b[0m \u001b[0;34m\u001b[0m\u001b[0m\n\u001b[1;32m     79\u001b[0m         self.sampling_strategy_ = check_sampling_strategy(\n",
      "\u001b[0;32m/mnt/disks/user/anaconda3/lib/python3.6/site-packages/imblearn/base.py\u001b[0m in \u001b[0;36m_check_X_y\u001b[0;34m(self, X, y, accept_sparse)\u001b[0m\n\u001b[1;32m    133\u001b[0m         \u001b[0my\u001b[0m\u001b[0;34m,\u001b[0m \u001b[0mbinarize_y\u001b[0m \u001b[0;34m=\u001b[0m \u001b[0mcheck_target_type\u001b[0m\u001b[0;34m(\u001b[0m\u001b[0my\u001b[0m\u001b[0;34m,\u001b[0m \u001b[0mindicate_one_vs_all\u001b[0m\u001b[0;34m=\u001b[0m\u001b[0;32mTrue\u001b[0m\u001b[0;34m)\u001b[0m\u001b[0;34m\u001b[0m\u001b[0;34m\u001b[0m\u001b[0m\n\u001b[1;32m    134\u001b[0m         X, y = self._validate_data(\n\u001b[0;32m--> 135\u001b[0;31m             \u001b[0mX\u001b[0m\u001b[0;34m,\u001b[0m \u001b[0my\u001b[0m\u001b[0;34m,\u001b[0m \u001b[0mreset\u001b[0m\u001b[0;34m=\u001b[0m\u001b[0;32mTrue\u001b[0m\u001b[0;34m,\u001b[0m \u001b[0maccept_sparse\u001b[0m\u001b[0;34m=\u001b[0m\u001b[0maccept_sparse\u001b[0m\u001b[0;34m\u001b[0m\u001b[0;34m\u001b[0m\u001b[0m\n\u001b[0m\u001b[1;32m    136\u001b[0m         )\n\u001b[1;32m    137\u001b[0m         \u001b[0;32mreturn\u001b[0m \u001b[0mX\u001b[0m\u001b[0;34m,\u001b[0m \u001b[0my\u001b[0m\u001b[0;34m,\u001b[0m \u001b[0mbinarize_y\u001b[0m\u001b[0;34m\u001b[0m\u001b[0;34m\u001b[0m\u001b[0m\n",
      "\u001b[0;32m/mnt/disks/user/anaconda3/lib/python3.6/site-packages/sklearn/base.py\u001b[0m in \u001b[0;36m_validate_data\u001b[0;34m(self, X, y, reset, validate_separately, **check_params)\u001b[0m\n\u001b[1;32m    430\u001b[0m                 \u001b[0my\u001b[0m \u001b[0;34m=\u001b[0m \u001b[0mcheck_array\u001b[0m\u001b[0;34m(\u001b[0m\u001b[0my\u001b[0m\u001b[0;34m,\u001b[0m \u001b[0;34m**\u001b[0m\u001b[0mcheck_y_params\u001b[0m\u001b[0;34m)\u001b[0m\u001b[0;34m\u001b[0m\u001b[0;34m\u001b[0m\u001b[0m\n\u001b[1;32m    431\u001b[0m             \u001b[0;32melse\u001b[0m\u001b[0;34m:\u001b[0m\u001b[0;34m\u001b[0m\u001b[0;34m\u001b[0m\u001b[0m\n\u001b[0;32m--> 432\u001b[0;31m                 \u001b[0mX\u001b[0m\u001b[0;34m,\u001b[0m \u001b[0my\u001b[0m \u001b[0;34m=\u001b[0m \u001b[0mcheck_X_y\u001b[0m\u001b[0;34m(\u001b[0m\u001b[0mX\u001b[0m\u001b[0;34m,\u001b[0m \u001b[0my\u001b[0m\u001b[0;34m,\u001b[0m \u001b[0;34m**\u001b[0m\u001b[0mcheck_params\u001b[0m\u001b[0;34m)\u001b[0m\u001b[0;34m\u001b[0m\u001b[0;34m\u001b[0m\u001b[0m\n\u001b[0m\u001b[1;32m    433\u001b[0m             \u001b[0mout\u001b[0m \u001b[0;34m=\u001b[0m \u001b[0mX\u001b[0m\u001b[0;34m,\u001b[0m \u001b[0my\u001b[0m\u001b[0;34m\u001b[0m\u001b[0;34m\u001b[0m\u001b[0m\n\u001b[1;32m    434\u001b[0m \u001b[0;34m\u001b[0m\u001b[0m\n",
      "\u001b[0;32m/mnt/disks/user/anaconda3/lib/python3.6/site-packages/sklearn/utils/validation.py\u001b[0m in \u001b[0;36minner_f\u001b[0;34m(*args, **kwargs)\u001b[0m\n\u001b[1;32m     71\u001b[0m                           FutureWarning)\n\u001b[1;32m     72\u001b[0m         \u001b[0mkwargs\u001b[0m\u001b[0;34m.\u001b[0m\u001b[0mupdate\u001b[0m\u001b[0;34m(\u001b[0m\u001b[0;34m{\u001b[0m\u001b[0mk\u001b[0m\u001b[0;34m:\u001b[0m \u001b[0marg\u001b[0m \u001b[0;32mfor\u001b[0m \u001b[0mk\u001b[0m\u001b[0;34m,\u001b[0m \u001b[0marg\u001b[0m \u001b[0;32min\u001b[0m \u001b[0mzip\u001b[0m\u001b[0;34m(\u001b[0m\u001b[0msig\u001b[0m\u001b[0;34m.\u001b[0m\u001b[0mparameters\u001b[0m\u001b[0;34m,\u001b[0m \u001b[0margs\u001b[0m\u001b[0;34m)\u001b[0m\u001b[0;34m}\u001b[0m\u001b[0;34m)\u001b[0m\u001b[0;34m\u001b[0m\u001b[0;34m\u001b[0m\u001b[0m\n\u001b[0;32m---> 73\u001b[0;31m         \u001b[0;32mreturn\u001b[0m \u001b[0mf\u001b[0m\u001b[0;34m(\u001b[0m\u001b[0;34m**\u001b[0m\u001b[0mkwargs\u001b[0m\u001b[0;34m)\u001b[0m\u001b[0;34m\u001b[0m\u001b[0;34m\u001b[0m\u001b[0m\n\u001b[0m\u001b[1;32m     74\u001b[0m     \u001b[0;32mreturn\u001b[0m \u001b[0minner_f\u001b[0m\u001b[0;34m\u001b[0m\u001b[0;34m\u001b[0m\u001b[0m\n\u001b[1;32m     75\u001b[0m \u001b[0;34m\u001b[0m\u001b[0m\n",
      "\u001b[0;32m/mnt/disks/user/anaconda3/lib/python3.6/site-packages/sklearn/utils/validation.py\u001b[0m in \u001b[0;36mcheck_X_y\u001b[0;34m(X, y, accept_sparse, accept_large_sparse, dtype, order, copy, force_all_finite, ensure_2d, allow_nd, multi_output, ensure_min_samples, ensure_min_features, y_numeric, estimator)\u001b[0m\n\u001b[1;32m    801\u001b[0m                     \u001b[0mensure_min_samples\u001b[0m\u001b[0;34m=\u001b[0m\u001b[0mensure_min_samples\u001b[0m\u001b[0;34m,\u001b[0m\u001b[0;34m\u001b[0m\u001b[0;34m\u001b[0m\u001b[0m\n\u001b[1;32m    802\u001b[0m                     \u001b[0mensure_min_features\u001b[0m\u001b[0;34m=\u001b[0m\u001b[0mensure_min_features\u001b[0m\u001b[0;34m,\u001b[0m\u001b[0;34m\u001b[0m\u001b[0;34m\u001b[0m\u001b[0m\n\u001b[0;32m--> 803\u001b[0;31m                     estimator=estimator)\n\u001b[0m\u001b[1;32m    804\u001b[0m     \u001b[0;32mif\u001b[0m \u001b[0mmulti_output\u001b[0m\u001b[0;34m:\u001b[0m\u001b[0;34m\u001b[0m\u001b[0;34m\u001b[0m\u001b[0m\n\u001b[1;32m    805\u001b[0m         y = check_array(y, accept_sparse='csr', force_all_finite=True,\n",
      "\u001b[0;32m/mnt/disks/user/anaconda3/lib/python3.6/site-packages/sklearn/utils/validation.py\u001b[0m in \u001b[0;36minner_f\u001b[0;34m(*args, **kwargs)\u001b[0m\n\u001b[1;32m     71\u001b[0m                           FutureWarning)\n\u001b[1;32m     72\u001b[0m         \u001b[0mkwargs\u001b[0m\u001b[0;34m.\u001b[0m\u001b[0mupdate\u001b[0m\u001b[0;34m(\u001b[0m\u001b[0;34m{\u001b[0m\u001b[0mk\u001b[0m\u001b[0;34m:\u001b[0m \u001b[0marg\u001b[0m \u001b[0;32mfor\u001b[0m \u001b[0mk\u001b[0m\u001b[0;34m,\u001b[0m \u001b[0marg\u001b[0m \u001b[0;32min\u001b[0m \u001b[0mzip\u001b[0m\u001b[0;34m(\u001b[0m\u001b[0msig\u001b[0m\u001b[0;34m.\u001b[0m\u001b[0mparameters\u001b[0m\u001b[0;34m,\u001b[0m \u001b[0margs\u001b[0m\u001b[0;34m)\u001b[0m\u001b[0;34m}\u001b[0m\u001b[0;34m)\u001b[0m\u001b[0;34m\u001b[0m\u001b[0;34m\u001b[0m\u001b[0m\n\u001b[0;32m---> 73\u001b[0;31m         \u001b[0;32mreturn\u001b[0m \u001b[0mf\u001b[0m\u001b[0;34m(\u001b[0m\u001b[0;34m**\u001b[0m\u001b[0mkwargs\u001b[0m\u001b[0;34m)\u001b[0m\u001b[0;34m\u001b[0m\u001b[0;34m\u001b[0m\u001b[0m\n\u001b[0m\u001b[1;32m     74\u001b[0m     \u001b[0;32mreturn\u001b[0m \u001b[0minner_f\u001b[0m\u001b[0;34m\u001b[0m\u001b[0;34m\u001b[0m\u001b[0m\n\u001b[1;32m     75\u001b[0m \u001b[0;34m\u001b[0m\u001b[0m\n",
      "\u001b[0;32m/mnt/disks/user/anaconda3/lib/python3.6/site-packages/sklearn/utils/validation.py\u001b[0m in \u001b[0;36mcheck_array\u001b[0;34m(array, accept_sparse, accept_large_sparse, dtype, order, copy, force_all_finite, ensure_2d, allow_nd, ensure_min_samples, ensure_min_features, estimator)\u001b[0m\n\u001b[1;32m    597\u001b[0m                     \u001b[0marray\u001b[0m \u001b[0;34m=\u001b[0m \u001b[0marray\u001b[0m\u001b[0;34m.\u001b[0m\u001b[0mastype\u001b[0m\u001b[0;34m(\u001b[0m\u001b[0mdtype\u001b[0m\u001b[0;34m,\u001b[0m \u001b[0mcasting\u001b[0m\u001b[0;34m=\u001b[0m\u001b[0;34m\"unsafe\"\u001b[0m\u001b[0;34m,\u001b[0m \u001b[0mcopy\u001b[0m\u001b[0;34m=\u001b[0m\u001b[0;32mFalse\u001b[0m\u001b[0;34m)\u001b[0m\u001b[0;34m\u001b[0m\u001b[0;34m\u001b[0m\u001b[0m\n\u001b[1;32m    598\u001b[0m                 \u001b[0;32melse\u001b[0m\u001b[0;34m:\u001b[0m\u001b[0;34m\u001b[0m\u001b[0;34m\u001b[0m\u001b[0m\n\u001b[0;32m--> 599\u001b[0;31m                     \u001b[0marray\u001b[0m \u001b[0;34m=\u001b[0m \u001b[0mnp\u001b[0m\u001b[0;34m.\u001b[0m\u001b[0masarray\u001b[0m\u001b[0;34m(\u001b[0m\u001b[0marray\u001b[0m\u001b[0;34m,\u001b[0m \u001b[0morder\u001b[0m\u001b[0;34m=\u001b[0m\u001b[0morder\u001b[0m\u001b[0;34m,\u001b[0m \u001b[0mdtype\u001b[0m\u001b[0;34m=\u001b[0m\u001b[0mdtype\u001b[0m\u001b[0;34m)\u001b[0m\u001b[0;34m\u001b[0m\u001b[0;34m\u001b[0m\u001b[0m\n\u001b[0m\u001b[1;32m    600\u001b[0m             \u001b[0;32mexcept\u001b[0m \u001b[0mComplexWarning\u001b[0m\u001b[0;34m:\u001b[0m\u001b[0;34m\u001b[0m\u001b[0;34m\u001b[0m\u001b[0m\n\u001b[1;32m    601\u001b[0m                 raise ValueError(\"Complex data not supported\\n\"\n",
      "\u001b[0;32m/mnt/disks/user/anaconda3/lib/python3.6/site-packages/numpy/core/_asarray.py\u001b[0m in \u001b[0;36masarray\u001b[0;34m(a, dtype, order)\u001b[0m\n\u001b[1;32m     81\u001b[0m \u001b[0;34m\u001b[0m\u001b[0m\n\u001b[1;32m     82\u001b[0m     \"\"\"\n\u001b[0;32m---> 83\u001b[0;31m     \u001b[0;32mreturn\u001b[0m \u001b[0marray\u001b[0m\u001b[0;34m(\u001b[0m\u001b[0ma\u001b[0m\u001b[0;34m,\u001b[0m \u001b[0mdtype\u001b[0m\u001b[0;34m,\u001b[0m \u001b[0mcopy\u001b[0m\u001b[0;34m=\u001b[0m\u001b[0;32mFalse\u001b[0m\u001b[0;34m,\u001b[0m \u001b[0morder\u001b[0m\u001b[0;34m=\u001b[0m\u001b[0morder\u001b[0m\u001b[0;34m)\u001b[0m\u001b[0;34m\u001b[0m\u001b[0;34m\u001b[0m\u001b[0m\n\u001b[0m\u001b[1;32m     84\u001b[0m \u001b[0;34m\u001b[0m\u001b[0m\n\u001b[1;32m     85\u001b[0m \u001b[0;34m\u001b[0m\u001b[0m\n",
      "\u001b[0;32m/mnt/disks/user/anaconda3/lib/python3.6/site-packages/pandas/core/generic.py\u001b[0m in \u001b[0;36m__array__\u001b[0;34m(self, dtype)\u001b[0m\n\u001b[1;32m   1779\u001b[0m \u001b[0;34m\u001b[0m\u001b[0m\n\u001b[1;32m   1780\u001b[0m     \u001b[0;32mdef\u001b[0m \u001b[0m__array__\u001b[0m\u001b[0;34m(\u001b[0m\u001b[0mself\u001b[0m\u001b[0;34m,\u001b[0m \u001b[0mdtype\u001b[0m\u001b[0;34m=\u001b[0m\u001b[0;32mNone\u001b[0m\u001b[0;34m)\u001b[0m \u001b[0;34m->\u001b[0m \u001b[0mnp\u001b[0m\u001b[0;34m.\u001b[0m\u001b[0mndarray\u001b[0m\u001b[0;34m:\u001b[0m\u001b[0;34m\u001b[0m\u001b[0;34m\u001b[0m\u001b[0m\n\u001b[0;32m-> 1781\u001b[0;31m         \u001b[0;32mreturn\u001b[0m \u001b[0mnp\u001b[0m\u001b[0;34m.\u001b[0m\u001b[0masarray\u001b[0m\u001b[0;34m(\u001b[0m\u001b[0mself\u001b[0m\u001b[0;34m.\u001b[0m\u001b[0m_values\u001b[0m\u001b[0;34m,\u001b[0m \u001b[0mdtype\u001b[0m\u001b[0;34m=\u001b[0m\u001b[0mdtype\u001b[0m\u001b[0;34m)\u001b[0m\u001b[0;34m\u001b[0m\u001b[0;34m\u001b[0m\u001b[0m\n\u001b[0m\u001b[1;32m   1782\u001b[0m \u001b[0;34m\u001b[0m\u001b[0m\n\u001b[1;32m   1783\u001b[0m     \u001b[0;32mdef\u001b[0m \u001b[0m__array_wrap__\u001b[0m\u001b[0;34m(\u001b[0m\u001b[0mself\u001b[0m\u001b[0;34m,\u001b[0m \u001b[0mresult\u001b[0m\u001b[0;34m,\u001b[0m \u001b[0mcontext\u001b[0m\u001b[0;34m=\u001b[0m\u001b[0;32mNone\u001b[0m\u001b[0;34m)\u001b[0m\u001b[0;34m:\u001b[0m\u001b[0;34m\u001b[0m\u001b[0;34m\u001b[0m\u001b[0m\n",
      "\u001b[0;32m/mnt/disks/user/anaconda3/lib/python3.6/site-packages/numpy/core/_asarray.py\u001b[0m in \u001b[0;36masarray\u001b[0;34m(a, dtype, order)\u001b[0m\n\u001b[1;32m     81\u001b[0m \u001b[0;34m\u001b[0m\u001b[0m\n\u001b[1;32m     82\u001b[0m     \"\"\"\n\u001b[0;32m---> 83\u001b[0;31m     \u001b[0;32mreturn\u001b[0m \u001b[0marray\u001b[0m\u001b[0;34m(\u001b[0m\u001b[0ma\u001b[0m\u001b[0;34m,\u001b[0m \u001b[0mdtype\u001b[0m\u001b[0;34m,\u001b[0m \u001b[0mcopy\u001b[0m\u001b[0;34m=\u001b[0m\u001b[0;32mFalse\u001b[0m\u001b[0;34m,\u001b[0m \u001b[0morder\u001b[0m\u001b[0;34m=\u001b[0m\u001b[0morder\u001b[0m\u001b[0;34m)\u001b[0m\u001b[0;34m\u001b[0m\u001b[0;34m\u001b[0m\u001b[0m\n\u001b[0m\u001b[1;32m     84\u001b[0m \u001b[0;34m\u001b[0m\u001b[0m\n\u001b[1;32m     85\u001b[0m \u001b[0;34m\u001b[0m\u001b[0m\n",
      "\u001b[0;31mValueError\u001b[0m: could not convert string to float: 'Cash loans'"
     ]
    }
   ],
   "source": [
    "## SMOTE - faster but need to encode categorical data\n",
    "from imblearn.over_sampling import SMOTE\n",
    "train_resample, y_resample = SMOTE().fit_resample(X_train,y_train)\n",
    "\n",
    "y_resample = pd.Series(y_resample)\n",
    "train_resample = pd.DataFrame(train_resample)\n",
    "train.shape, y.shape, train_resample.shape, y_resample.shape"
   ]
  },
  {
   "cell_type": "code",
   "execution_count": null,
   "metadata": {
    "colab": {},
    "colab_type": "code",
    "id": "IdAsU_Oz02Gn"
   },
   "outputs": [],
   "source": [
    "train_resample.columns = train.columns"
   ]
  },
  {
   "cell_type": "code",
   "execution_count": null,
   "metadata": {
    "colab": {},
    "colab_type": "code",
    "id": "VfgHfmkN1Ekh"
   },
   "outputs": [],
   "source": [
    "train_resample.head()"
   ]
  },
  {
   "cell_type": "code",
   "execution_count": null,
   "metadata": {
    "colab": {},
    "colab_type": "code",
    "id": "ss_dZ-PHjDxI"
   },
   "outputs": [],
   "source": [
    "y_resample.value_counts()"
   ]
  },
  {
   "cell_type": "markdown",
   "metadata": {
    "colab_type": "text",
    "id": "ZcC_82X0lKNT"
   },
   "source": [
    "We will use the resampling output for model building"
   ]
  },
  {
   "cell_type": "markdown",
   "metadata": {
    "colab_type": "text",
    "id": "S_6X1AkFkQK6"
   },
   "source": [
    "**Model Building - 2.1 RandomForest without Resampling**"
   ]
  },
  {
   "cell_type": "code",
   "execution_count": null,
   "metadata": {
    "colab": {},
    "colab_type": "code",
    "id": "avovqph3kOMn"
   },
   "outputs": [],
   "source": [
    "from sklearn.ensemble import RandomForestClassifier\n",
    "\n",
    "# Initialize\n",
    "random_forest = RandomForestClassifier(n_estimators = 100, random_state = 50, verbose = 1, n_jobs = -1) #n_jobs = -1 meaning utilize all system resources"
   ]
  },
  {
   "cell_type": "code",
   "execution_count": null,
   "metadata": {
    "colab": {
     "base_uri": "https://localhost:8080/",
     "height": 67
    },
    "colab_type": "code",
    "id": "Bl1e9kxKkk9t",
    "outputId": "d7b2d593-4334-4785-fcef-49aa5a2419ef"
   },
   "outputs": [],
   "source": [
    "# Fit the model\n",
    "rf_model = random_forest.fit(train, y)"
   ]
  },
  {
   "cell_type": "code",
   "execution_count": null,
   "metadata": {
    "colab": {
     "base_uri": "https://localhost:8080/",
     "height": 67
    },
    "colab_type": "code",
    "id": "nmRpHs9RkpME",
    "outputId": "a2f7904b-255d-48ef-930a-fde52cd3854e"
   },
   "outputs": [],
   "source": [
    "# Make predictions on the test data\n",
    "pred_rf = random_forest.predict_proba(test)[:, 1]"
   ]
  },
  {
   "cell_type": "code",
   "execution_count": null,
   "metadata": {
    "colab": {},
    "colab_type": "code",
    "id": "fsobIc4_k_Iw"
   },
   "outputs": [],
   "source": [
    "final_RF_pred = pd.DataFrame(pred_rf)\n",
    "#final_RF_pred.to_csv('rf_pred.csv')"
   ]
  },
  {
   "cell_type": "code",
   "execution_count": null,
   "metadata": {
    "colab": {
     "base_uri": "https://localhost:8080/",
     "height": 639
    },
    "colab_type": "code",
    "id": "4n3sbFRgyyO6",
    "outputId": "1e36d0ac-c77a-4828-8232-4e7e9942f5e9"
   },
   "outputs": [],
   "source": [
    "feature_importances = pd.DataFrame(rf_model.feature_importances_, index = train.columns, columns=['importance']).sort_values('importance', ascending=False)\n",
    "feature_importances[:20]"
   ]
  },
  {
   "cell_type": "code",
   "execution_count": null,
   "metadata": {
    "colab": {
     "base_uri": "https://localhost:8080/",
     "height": 450
    },
    "colab_type": "code",
    "id": "9ayxCG-uzBw6",
    "outputId": "c0ab6fdc-9513-475a-b74c-a51c7ed4f0d7"
   },
   "outputs": [],
   "source": [
    "feature_importances[:20].plot(kind='bar')"
   ]
  },
  {
   "cell_type": "markdown",
   "metadata": {
    "colab_type": "text",
    "id": "7xLZIKsdiYqW"
   },
   "source": [
    "*Test AUC - 0.698*"
   ]
  },
  {
   "cell_type": "markdown",
   "metadata": {
    "colab_type": "text",
    "id": "qZuaqKdThoYj"
   },
   "source": [
    "**Model Building - 2.2 RandomForest with SMOTE**"
   ]
  },
  {
   "cell_type": "code",
   "execution_count": null,
   "metadata": {
    "colab": {},
    "colab_type": "code",
    "id": "Txj4lDxfhvBm"
   },
   "outputs": [],
   "source": [
    "rf_model_resample = random_forest.fit(train_resample, y_resample)\n",
    "pred_rf_resample = random_forest.predict_proba(test)[:, 1]\n",
    "final_RF_pred_resample = pd.DataFrame(pred_rf_resample)\n",
    "final_RF_pred_resample.to_csv('rf_pred_resample.csv')"
   ]
  },
  {
   "cell_type": "markdown",
   "metadata": {
    "colab_type": "text",
    "id": "uM7-orHljWAl"
   },
   "source": [
    "*Test AUC - 0.691*"
   ]
  },
  {
   "cell_type": "markdown",
   "metadata": {
    "colab_type": "text",
    "id": "T7hRgYkh73qK"
   },
   "source": [
    "**Logistic Regression**"
   ]
  },
  {
   "cell_type": "code",
   "execution_count": null,
   "metadata": {
    "colab": {
     "base_uri": "https://localhost:8080/",
     "height": 50
    },
    "colab_type": "code",
    "id": "6LGhZWPJ795f",
    "outputId": "cdf3a479-2507-4497-bb1e-b69f9af6968c"
   },
   "outputs": [],
   "source": [
    "from sklearn.linear_model import LogisticRegression\n",
    "from sklearn.preprocessing import MinMaxScaler\n",
    "scaler = MinMaxScaler(feature_range = (0, 1))\n",
    "\n",
    "scaler.fit(train)\n",
    "train_scaled = scaler.transform(train)\n",
    "test_scaled = scaler.transform(test)\n",
    "\n",
    "log_model = LogisticRegression(random_state=0, solver='lbfgs', multi_class='multinomial',C=0.1).fit(train_scaled, y)\n",
    "pred_log = log_model.predict_proba(test_scaled)[:,1]"
   ]
  },
  {
   "cell_type": "code",
   "execution_count": null,
   "metadata": {
    "colab": {
     "base_uri": "https://localhost:8080/",
     "height": 1000
    },
    "colab_type": "code",
    "id": "7Lnz97h_845I",
    "outputId": "3b4bb483-f826-4d44-c236-e11695c30986"
   },
   "outputs": [],
   "source": [
    "log_model.coef_"
   ]
  },
  {
   "cell_type": "code",
   "execution_count": null,
   "metadata": {
    "colab": {
     "base_uri": "https://localhost:8080/",
     "height": 218
    },
    "colab_type": "code",
    "id": "hT-FocwBSDRI",
    "outputId": "4f51d4c7-fd66-41de-f589-d811ab76ad7e"
   },
   "outputs": [],
   "source": [
    "train.columns"
   ]
  },
  {
   "cell_type": "code",
   "execution_count": null,
   "metadata": {
    "colab": {},
    "colab_type": "code",
    "id": "FoLV6Cdydq96"
   },
   "outputs": [],
   "source": [
    "log_model_features=pd.DataFrame(log_model.coef_[0])\n",
    "log_model_features.index=train.columns"
   ]
  },
  {
   "cell_type": "code",
   "execution_count": null,
   "metadata": {
    "colab": {
     "base_uri": "https://localhost:8080/",
     "height": 639
    },
    "colab_type": "code",
    "id": "nsP1nl7QeM5c",
    "outputId": "e5955bf0-d742-46e2-97c4-799fc8b1de8c"
   },
   "outputs": [],
   "source": [
    "log_model_features.columns=['Importance Score']\n",
    "log_model_features.sort_values(by='Importance Score',ascending=False)[:20]"
   ]
  },
  {
   "cell_type": "markdown",
   "metadata": {
    "colab_type": "text",
    "id": "V4PwK-KH2YWS"
   },
   "source": [
    "**Model Building - 3.1. XGBoost without resampling**"
   ]
  },
  {
   "cell_type": "markdown",
   "metadata": {
    "colab_type": "text",
    "id": "T2Az2lcXlU-W"
   },
   "source": [
    "Without tuning"
   ]
  },
  {
   "cell_type": "code",
   "execution_count": null,
   "metadata": {
    "colab": {},
    "colab_type": "code",
    "id": "NoYo_-iW2Ds2"
   },
   "outputs": [],
   "source": [
    "import xgboost as xgb"
   ]
  },
  {
   "cell_type": "code",
   "execution_count": null,
   "metadata": {
    "colab": {},
    "colab_type": "code",
    "id": "mZkfJwMJg8PW"
   },
   "outputs": [],
   "source": [
    "params = {\n",
    "   \n",
    "    'max_depth': 7, # to control over-fitting, optimal value range: 3-10\n",
    "    'gamma' :0, # the minimum loss reduction required to make a split, XGB will build the tree first then prune in case of 0 gamma\n",
    "    'eta':.05, # shrinkage factor, optimal value range: 0.01-0.2\n",
    "    'subsample': 0.7, # fraction of observations to be randomly samples for each tree, optimal value range: 0.5-1\n",
    "    'colsample_bytree': 0.7, # fraction of columns to be randomly samples for each tree, optimal value range: 0.5-1\n",
    "    'scale_pos_weight' : 1.0, # for imbalanced data\n",
    "    'objective':'binary:logistic', # loss function to be minimized\n",
    "    'eval_metric':'auc', # metric to be used for validation data\n",
    "    'silent': 0 # running messages will be printed\n",
    "}"
   ]
  },
  {
   "cell_type": "code",
   "execution_count": null,
   "metadata": {
    "colab": {},
    "colab_type": "code",
    "id": "yJkGKJH1hdeE"
   },
   "outputs": [],
   "source": [
    "def XGBmodel(X_train,X_test,y_train,y_test,params):\n",
    "    matrix_train = xgb.DMatrix(X_train,label=y_train)\n",
    "    matrix_test = xgb.DMatrix(X_test,label=y_test)\n",
    "    model=xgb.train(params=params,\n",
    "                    dtrain=matrix_train,\n",
    "                    num_boost_round=500, # number of boosting rounds or trees to build\n",
    "                    early_stopping_rounds=10, # stop if performance haven’t improved for N rounds\n",
    "                    evals=[(matrix_test,'test')]\n",
    "                   )\n",
    "    return model"
   ]
  },
  {
   "cell_type": "code",
   "execution_count": null,
   "metadata": {
    "colab": {},
    "colab_type": "code",
    "id": "qRdUsaarDLq3"
   },
   "outputs": [],
   "source": [
    "from sklearn.model_selection import train_test_split\n",
    "xgb_train, xgb_val, xgb_y_train, xgb_y_val = train_test_split(train, y, test_size = 0.2, random_state = 42)"
   ]
  },
  {
   "cell_type": "code",
   "execution_count": null,
   "metadata": {
    "colab": {
     "base_uri": "https://localhost:8080/",
     "height": 1000
    },
    "colab_type": "code",
    "id": "WAdiNlLdiNNp",
    "outputId": "82d91c86-54df-47fd-e48a-44031f3efe5a"
   },
   "outputs": [],
   "source": [
    "xgb_model = XGBmodel(xgb_train,xgb_val,xgb_y_train,xgb_y_val,params)"
   ]
  },
  {
   "cell_type": "code",
   "execution_count": null,
   "metadata": {
    "colab": {
     "base_uri": "https://localhost:8080/",
     "height": 142
    },
    "colab_type": "code",
    "id": "yQKtTNZ1dXzN",
    "outputId": "a4081e39-acb4-40cf-e99e-b5fee99344da"
   },
   "outputs": [],
   "source": [
    "xgb_features=pd.DataFrame(xgb_model.get_score(importance_type='gain'), index=[0])\n",
    "xgb_features"
   ]
  },
  {
   "cell_type": "code",
   "execution_count": null,
   "metadata": {
    "colab": {
     "base_uri": "https://localhost:8080/",
     "height": 312
    },
    "colab_type": "code",
    "id": "KjPNiJfPc1BU",
    "outputId": "7c65c677-5a8b-4ef6-c960-3fbce2621b58"
   },
   "outputs": [],
   "source": [
    "xgb.plot_importance(xgb_model, max_num_features=20)"
   ]
  },
  {
   "cell_type": "markdown",
   "metadata": {
    "colab_type": "text",
    "id": "x09xnLNQPyOH"
   },
   "source": [
    "**XGBoost Hyperparameter Tuning**"
   ]
  },
  {
   "cell_type": "code",
   "execution_count": null,
   "metadata": {
    "colab": {},
    "colab_type": "code",
    "id": "MOX_rk8ePxyv"
   },
   "outputs": [],
   "source": [
    "# cv_results = xgb.cv(\n",
    "#                     params=params,\n",
    "#                     dtrain=xgb.DMatrix(xgb_train,label=xgb_y_train),\n",
    "#                     num_boost_round=5000,\n",
    "#                     early_stopping_rounds=10,\n",
    "#                     seed=42,\n",
    "#                     nfold=5,\n",
    "#                     metrics = 'auc'\n",
    "#                     )    \n",
    "# cv_results # returns a table where the rows correspond to the number of boosting trees used"
   ]
  },
  {
   "cell_type": "code",
   "execution_count": null,
   "metadata": {
    "colab": {},
    "colab_type": "code",
    "id": "OVHeSUbOeHL3"
   },
   "outputs": [],
   "source": [
    "# cv_results['test-auc-mean'].max()"
   ]
  },
  {
   "cell_type": "code",
   "execution_count": null,
   "metadata": {
    "colab": {},
    "colab_type": "code",
    "id": "EWsHhqrRefA3"
   },
   "outputs": [],
   "source": [
    "# We will first tune our parameters to maximize the test AUC in cross-validation\n",
    "# then we will check the performance of our model on the validation set"
   ]
  },
  {
   "cell_type": "code",
   "execution_count": null,
   "metadata": {
    "colab": {},
    "colab_type": "code",
    "id": "1X2AiXd2eVBz"
   },
   "outputs": [],
   "source": [
    "# Let's start tuning the parameters subsample and colsample_bytree"
   ]
  },
  {
   "cell_type": "code",
   "execution_count": null,
   "metadata": {
    "colab": {},
    "colab_type": "code",
    "id": "EA6rg8R9fSVS"
   },
   "outputs": [],
   "source": [
    "gridsearch_params = [\n",
    "    (subsample, colsample)\n",
    "    for subsample in [i/10. for i in range(6,9)]\n",
    "    for colsample in [i/10. for i in range(6,9)]\n",
    "]"
   ]
  },
  {
   "cell_type": "code",
   "execution_count": null,
   "metadata": {
    "colab": {
     "base_uri": "https://localhost:8080/",
     "height": 70
    },
    "colab_type": "code",
    "id": "KIolF3vdfboR",
    "outputId": "0a94d936-27d8-482f-a908-858358a0e9a2"
   },
   "outputs": [],
   "source": [
    "# Define initial best params and MAE\n",
    "max_auc = 0\n",
    "best_params = None\n",
    "\n",
    "# Start by the largest values and go down to the smallest\n",
    "for subsample, colsample in reversed(gridsearch_params):\n",
    "    print(\"CV with subsample={}, colsample={}\".format(subsample,colsample))\n",
    "    \n",
    "    # Update parameters\n",
    "    params['subsample'] = subsample\n",
    "    params['colsample_bytree'] = colsample\n",
    "    \n",
    "    # Run CV\n",
    "    cv_results = xgb.cv(\n",
    "                        params=params,\n",
    "                        dtrain=xgb.DMatrix(xgb_train,label=xgb_y_train),\n",
    "                        num_boost_round=5000,\n",
    "                        early_stopping_rounds=10,\n",
    "                        seed=42,\n",
    "                        nfold=5,\n",
    "                        metrics = 'auc'\n",
    "                        )\n",
    "    \n",
    "    # Update best score\n",
    "    mean_auc = cv_results['test-auc-mean'].max()\n",
    "    boost_rounds = cv_results['test-auc-mean'].argmax()\n",
    "    print(\"\\tAUC {} for {} rounds\".format(mean_auc, boost_rounds))\n",
    "    if mean_auc > max_auc:\n",
    "        max_auc = mean_auc\n",
    "        best_params = (subsample,colsample)\n",
    "        \n",
    "print(\"Best params: {}, {}, AUC: {}\".format(best_params[0], best_params[1], max_auc))"
   ]
  },
  {
   "cell_type": "code",
   "execution_count": null,
   "metadata": {
    "colab": {},
    "colab_type": "code",
    "id": "1aI-rGGxt7RJ"
   },
   "outputs": [],
   "source": [
    "params['subsample'] = 0.7 #best_params[0]\n",
    "params['colsample_bytree'] = 0.7 #best_params[1]"
   ]
  },
  {
   "cell_type": "code",
   "execution_count": null,
   "metadata": {
    "colab": {},
    "colab_type": "code",
    "id": "jqIdp4zVtdOW"
   },
   "outputs": [],
   "source": [
    "# Tuning shrinkage factor\n",
    "\n",
    "max_auc = 0\n",
    "best_params = None\n",
    "\n",
    "for eta in [.2, .1, .05, .01]:\n",
    "    print(\"CV with eta={}\".format(eta))\n",
    "    \n",
    "    # Update parameters\n",
    "    params['eta'] = eta\n",
    "    \n",
    "    # Run CV\n",
    "    cv_results = xgb.cv(\n",
    "                        params=params,\n",
    "                        dtrain=xgb.DMatrix(xgb_train,label=xgb_y_train),\n",
    "                        num_boost_round=5000,\n",
    "                        early_stopping_rounds=10,\n",
    "                        seed=42,\n",
    "                        nfold=5,\n",
    "                        metrics = 'auc'\n",
    "                        )\n",
    "    \n",
    "    # Update best score\n",
    "    mean_auc = cv_results['test-auc-mean'].max()\n",
    "    boost_rounds = cv_results['test-auc-mean'].argmax()\n",
    "    print(\"\\tAUC {} for {} rounds\".format(mean_auc, boost_rounds))\n",
    "    if mean_auc > max_auc:\n",
    "        max_auc = mean_auc\n",
    "        best_params = (subsample,colsample)\n",
    "        \n",
    "print(\"Best params: {}, {}, AUC: {}\".format(best_params[0], best_params[1], max_auc))"
   ]
  },
  {
   "cell_type": "code",
   "execution_count": null,
   "metadata": {
    "colab": {},
    "colab_type": "code",
    "id": "sY4TlMmvuPad"
   },
   "outputs": [],
   "source": [
    "# final tuned parameters\n",
    "params = {\n",
    "   \n",
    "    'max_depth': 7, # to control over-fitting, optimal value range: 3-10\n",
    "    'gamma' :0, # the minimum loss reduction required to make a split, XGB will build the tree first then prune in case of 0 gamma\n",
    "    'eta':.03, # shrinkage factor, optimal value range: 0.01-0.2\n",
    "    'subsample': 0.8, # fraction of observations to be randomly samples for each tree, optimal value range: 0.5-1\n",
    "    'colsample_bytree': 0.8, # fraction of columns to be randomly samples for each tree, optimal value range: 0.5-1\n",
    "    'scale_pos_weight' : 11.0, # for imbalanced data\n",
    "    'objective':'binary:logistic', # loss function to be minimized\n",
    "    'eval_metric':'auc', # metric to be used for validation data\n",
    "    'silent': 0 # running messages will be printed\n",
    "}\n"
   ]
  },
  {
   "cell_type": "code",
   "execution_count": null,
   "metadata": {
    "colab": {
     "base_uri": "https://localhost:8080/",
     "height": 1000
    },
    "colab_type": "code",
    "id": "jUGHkOMRulXN",
    "outputId": "0597a37f-e3ef-4d71-b688-1806ee6a128b"
   },
   "outputs": [],
   "source": [
    "# train final model using tuned parameters\n",
    "xgb_model = XGBmodel(xgb_train,xgb_val,xgb_y_train,xgb_y_val,params)"
   ]
  },
  {
   "cell_type": "code",
   "execution_count": null,
   "metadata": {
    "colab": {},
    "colab_type": "code",
    "id": "tDMS9mXZyzfG"
   },
   "outputs": [],
   "source": [
    "xgb_test = xgb.DMatrix(test)"
   ]
  },
  {
   "cell_type": "code",
   "execution_count": null,
   "metadata": {
    "colab": {},
    "colab_type": "code",
    "id": "Qc3TvkkthmRO"
   },
   "outputs": [],
   "source": [
    "pred_xgb = xgb_model.predict(xgb_test, ntree_limit = xgb_model.best_ntree_limit).tolist()\n",
    "final_xgb_pred = pd.DataFrame(pred_xgb)"
   ]
  },
  {
   "cell_type": "code",
   "execution_count": null,
   "metadata": {
    "colab": {},
    "colab_type": "code",
    "id": "YwSKNqZa1XmE"
   },
   "outputs": [],
   "source": [
    "final_xgb_pred.to_csv('XGB.csv')"
   ]
  },
  {
   "cell_type": "markdown",
   "metadata": {
    "colab_type": "text",
    "id": "2PIgu0PrlwK1"
   },
   "source": [
    "*Test AUC - 0.74*"
   ]
  },
  {
   "cell_type": "markdown",
   "metadata": {
    "colab_type": "text",
    "id": "py9Y2js7juVM"
   },
   "source": [
    "**Model Building - 3.1. XGBoost with SMOTE resampling**"
   ]
  },
  {
   "cell_type": "code",
   "execution_count": null,
   "metadata": {
    "colab": {
     "base_uri": "https://localhost:8080/",
     "height": 1000
    },
    "colab_type": "code",
    "id": "DPf2PAhsj7R2",
    "outputId": "bb23f001-2f4e-49c9-a30b-dd49aa4e3cad"
   },
   "outputs": [],
   "source": [
    "params['scale_pos_weight'] = 1\n",
    "\n",
    "xgb_train_resample, xgb_val_resample, xgb_y_train_resample, xgb_y_val_resample = train_test_split(train_resample, y_resample, test_size = 0.2, random_state = 42)\n",
    "\n",
    "xgb_model_resample = XGBmodel(xgb_train_resample,xgb_val_resample,xgb_y_train_resample,xgb_y_val_resample,params)\n",
    "\n",
    "pred_xgb_resample = xgb_model_resample.predict(xgb_test, ntree_limit = xgb_model_resample.best_ntree_limit).tolist()\n",
    "final_xgb_pred_resample = pd.DataFrame(pred_xgb_resample)\n",
    "\n",
    "final_xgb_pred_resample.to_csv('XGB_resample.csv')"
   ]
  },
  {
   "cell_type": "markdown",
   "metadata": {
    "colab_type": "text",
    "id": "gyMcgQsfr5W0"
   },
   "source": [
    "*Test AUC - 0.746*"
   ]
  },
  {
   "cell_type": "markdown",
   "metadata": {
    "colab_type": "text",
    "id": "O7yiIObeUoDY"
   },
   "source": [
    "**Model Building - 4.1. LGBM without resampling**"
   ]
  },
  {
   "cell_type": "code",
   "execution_count": null,
   "metadata": {
    "colab": {},
    "colab_type": "code",
    "id": "bUEq_ZUTUqW7"
   },
   "outputs": [],
   "source": [
    "import lightgbm as lgb"
   ]
  },
  {
   "cell_type": "code",
   "execution_count": null,
   "metadata": {
    "colab": {},
    "colab_type": "code",
    "id": "YQH9MpOKhclf"
   },
   "outputs": [],
   "source": [
    "# lgbm_train = train\n",
    "# lgbm_test = test"
   ]
  },
  {
   "cell_type": "code",
   "execution_count": null,
   "metadata": {
    "colab": {},
    "colab_type": "code",
    "id": "xX7KoQruw3h6"
   },
   "outputs": [],
   "source": [
    "# lgbm_categ_column = ['NAME_CONTRACT_TYPE', 'CODE_GENDER', 'FLAG_OWN_CAR', 'FLAG_OWN_REALTY',\n",
    "#        'NAME_TYPE_SUITE', 'NAME_INCOME_TYPE', 'NAME_EDUCATION_TYPE',\n",
    "#        'NAME_FAMILY_STATUS', 'NAME_HOUSING_TYPE', 'OCCUPATION_TYPE',\n",
    "#        'WEEKDAY_APPR_PROCESS_START', 'ORGANIZATION_TYPE']"
   ]
  },
  {
   "cell_type": "code",
   "execution_count": null,
   "metadata": {
    "colab": {},
    "colab_type": "code",
    "id": "sKLLC5-5yKCH"
   },
   "outputs": [],
   "source": [
    "lgbm_train,lgbm_val,lgbm_y_train,lgbm_y_val = train_test_split(train,y, test_size = 0.2, random_state = 42)"
   ]
  },
  {
   "cell_type": "code",
   "execution_count": null,
   "metadata": {
    "colab": {},
    "colab_type": "code",
    "id": "pfTg1WCA0m4L"
   },
   "outputs": [],
   "source": [
    "# taking data as LightGBM format\n",
    "trn_data = lgb.Dataset(lgbm_train, label=lgbm_y_train)\n",
    "val_data = lgb.Dataset(lgbm_val, label=lgbm_y_val)"
   ]
  },
  {
   "cell_type": "code",
   "execution_count": 83,
   "metadata": {
    "colab": {},
    "colab_type": "code",
    "id": "qGapaGWR0LBU"
   },
   "outputs": [],
   "source": [
    "lgbm_model = {\n",
    "    \"objective\" : \"binary\",\n",
    "    \"metric\" : \"auc\",\n",
    "    \"boosting\": 'dart',\n",
    "    \"max_depth\" : 8,\n",
    "    \"sub_sample\":0.8,\n",
    "    \"num_leaves\" : 31,\n",
    "    \"learning_rate\" : 0.01,\n",
    "    \"seed\": 42}"
   ]
  },
  {
   "cell_type": "code",
   "execution_count": 84,
   "metadata": {
    "colab": {
     "base_uri": "https://localhost:8080/",
     "height": 84
    },
    "colab_type": "code",
    "id": "VPnzIqb91FJy",
    "outputId": "a2974ad2-62aa-425b-9ce7-b7f34adca50b"
   },
   "outputs": [
    {
     "ename": "NameError",
     "evalue": "name 'lgb' is not defined",
     "output_type": "error",
     "traceback": [
      "\u001b[0;31m---------------------------------------------------------------------------\u001b[0m",
      "\u001b[0;31mNameError\u001b[0m                                 Traceback (most recent call last)",
      "\u001b[0;32m<ipython-input-84-259dd09672b4>\u001b[0m in \u001b[0;36m<module>\u001b[0;34m()\u001b[0m\n\u001b[0;32m----> 1\u001b[0;31m fit_lgbm = lgb.train(lgbm_model, trn_data, num_boost_round= 500, valid_sets = [trn_data, val_data], verbose_eval=500, \n\u001b[0m\u001b[1;32m      2\u001b[0m                 early_stopping_rounds = 100)\n",
      "\u001b[0;31mNameError\u001b[0m: name 'lgb' is not defined"
     ]
    }
   ],
   "source": [
    "fit_lgbm = lgb.train(lgbm_model, trn_data, num_boost_round= 500, valid_sets = [trn_data, val_data], verbose_eval=500, \n",
    "                early_stopping_rounds = 100)"
   ]
  },
  {
   "cell_type": "code",
   "execution_count": null,
   "metadata": {
    "colab": {},
    "colab_type": "code",
    "id": "oDFXYKJL1IFw"
   },
   "outputs": [],
   "source": [
    "pred_lgbm = fit_lgbm.predict(test, num_iteration=fit_lgbm.best_iteration)"
   ]
  },
  {
   "cell_type": "code",
   "execution_count": null,
   "metadata": {
    "colab": {
     "base_uri": "https://localhost:8080/",
     "height": 312
    },
    "colab_type": "code",
    "id": "0Gl6LbQoaJx-",
    "outputId": "025943ff-00e7-4ced-8205-9532acf722c1"
   },
   "outputs": [],
   "source": [
    "lgb.plot_importance(fit_lgbm,max_num_features=20)"
   ]
  },
  {
   "cell_type": "code",
   "execution_count": null,
   "metadata": {
    "colab": {},
    "colab_type": "code",
    "id": "4ewEh_yi16ys"
   },
   "outputs": [],
   "source": [
    "final_lgbm_pred = pd.DataFrame(pred_lgbm)"
   ]
  },
  {
   "cell_type": "code",
   "execution_count": null,
   "metadata": {
    "colab": {},
    "colab_type": "code",
    "id": "NzN38eNw_Y-w"
   },
   "outputs": [],
   "source": [
    "final_lgbm_pred.to_csv('lgb.csv')"
   ]
  },
  {
   "cell_type": "markdown",
   "metadata": {
    "colab_type": "text",
    "id": "--b9WGh2skRG"
   },
   "source": [
    "*Test AUC - 0.743*"
   ]
  },
  {
   "cell_type": "markdown",
   "metadata": {
    "colab_type": "text",
    "id": "jaKqsDYDsWOF"
   },
   "source": [
    "**Model Building - 4.2. LGBM with SMOTE resampling**"
   ]
  },
  {
   "cell_type": "code",
   "execution_count": null,
   "metadata": {
    "colab": {
     "base_uri": "https://localhost:8080/",
     "height": 88
    },
    "colab_type": "code",
    "id": "zwhb2iZNsuWL",
    "outputId": "905633ca-7f57-475f-9157-f20e2d52a34b"
   },
   "outputs": [],
   "source": [
    "lgbm_train_resample,lgbm_val_resample,lgbm_y_train_resample,lgbm_y_val_resample = train_test_split(train_resample, y_resample, test_size = 0.2, random_state = 42)\n",
    "\n",
    "trn_data_resample = lgb.Dataset(lgbm_train_resample, label=lgbm_y_train_resample)\n",
    "val_data_resample = lgb.Dataset(lgbm_val_resample, label=lgbm_y_val_resample)\n",
    "\n",
    "fit_lgbm_resample = lgb.train(lgbm_model, trn_data_resample, num_boost_round= 500, valid_sets = [trn_data_resample, val_data_resample], verbose_eval=500, \n",
    "                early_stopping_rounds = 100)\n",
    "\n",
    "pred_lgbm_resample = fit_lgbm_resample.predict(test, num_iteration=fit_lgbm_resample.best_iteration)\n",
    "final_lgbm_pred_resample = pd.DataFrame(pred_lgbm_resample)\n",
    "final_lgbm_pred_resample.to_csv('lgb_resample.csv')"
   ]
  },
  {
   "cell_type": "markdown",
   "metadata": {
    "colab_type": "text",
    "id": "2T9V6RGltti6"
   },
   "source": [
    "*Test AUC - 0.75*"
   ]
  },
  {
   "cell_type": "markdown",
   "metadata": {
    "colab_type": "text",
    "id": "Mcr52XAWVGGl"
   },
   "source": [
    "**Model Building - 5. CATBoost**"
   ]
  },
  {
   "cell_type": "code",
   "execution_count": null,
   "metadata": {
    "colab": {
     "base_uri": "https://localhost:8080/",
     "height": 553
    },
    "colab_type": "code",
    "id": "fCj1crqNcwoO",
    "outputId": "58cf40e4-0b4c-4e09-f3c7-393c72f59ff9"
   },
   "outputs": [],
   "source": [
    "!pip install catboost\n",
    "\n",
    "import catboost\n",
    "from catboost import Pool, CatBoostClassifier,cv"
   ]
  },
  {
   "cell_type": "code",
   "execution_count": null,
   "metadata": {
    "colab": {
     "base_uri": "https://localhost:8080/",
     "height": 35
    },
    "colab_type": "code",
    "id": "1BOhE90nokJf",
    "outputId": "15ca8b49-07f8-41b2-f656-9693dcd960dd"
   },
   "outputs": [],
   "source": [
    "cat_train = train_test_merged[train_test_merged['Train_YN'] == 1].copy()\n",
    "cat_test = train_test_merged[train_test_merged['Train_YN'] == 0].copy()\n",
    "\n",
    "cat_test.drop(columns = ['TARGET','Train_YN'], inplace = True)\n",
    "cat_train.drop(columns = ['Train_YN'], inplace = True)\n",
    "\n",
    "cat_y = cat_train['TARGET'].copy()\n",
    "\n",
    "cat_train.drop(columns = ['TARGET'], inplace = True)\n",
    "cat_train.shape, cat_test.shape, cat_y.shape"
   ]
  },
  {
   "cell_type": "code",
   "execution_count": null,
   "metadata": {
    "colab": {
     "base_uri": "https://localhost:8080/",
     "height": 141
    },
    "colab_type": "code",
    "id": "K91VFTiBpNzO",
    "outputId": "65bce0cf-d317-4f60-e454-34dbf4496d29"
   },
   "outputs": [],
   "source": [
    "# categorical columns\n",
    "\n",
    "cat_train.columns[cat_train.dtypes.values == 'O']"
   ]
  },
  {
   "cell_type": "code",
   "execution_count": null,
   "metadata": {
    "colab": {},
    "colab_type": "code",
    "id": "HqEetka29vV6"
   },
   "outputs": [],
   "source": [
    "categ_column = ['CODE_GENDER', 'EMERGENCYSTATE_MODE', 'FLAG_OWN_CAR', 'FLAG_OWN_REALTY',\n",
    "       'HOUSETYPE_MODE', 'NAME_CONTRACT_TYPE', 'NAME_EDUCATION_TYPE',\n",
    "       'NAME_FAMILY_STATUS', 'NAME_HOUSING_TYPE', 'NAME_INCOME_TYPE',\n",
    "       'NAME_TYPE_SUITE', 'OCCUPATION_TYPE', 'ORGANIZATION_TYPE',\n",
    "       'WALLSMATERIAL_MODE', 'WEEKDAY_APPR_PROCESS_START', 'FAMILY SIZE',\n",
    "       'IS_CHILDREN']"
   ]
  },
  {
   "cell_type": "code",
   "execution_count": null,
   "metadata": {
    "colab": {},
    "colab_type": "code",
    "id": "q9RZXcsCph4g"
   },
   "outputs": [],
   "source": [
    "x_train, x_val , y_train, y_val = train_test_split(cat_train,cat_y,test_size=0.20)"
   ]
  },
  {
   "cell_type": "code",
   "execution_count": null,
   "metadata": {
    "colab": {},
    "colab_type": "code",
    "id": "E87OaUOSdnaJ"
   },
   "outputs": [],
   "source": [
    "_train = Pool(x_train, label=y_train,cat_features= categ_column)\n",
    "_valid = Pool(x_val, label=y_val,cat_features= categ_column)"
   ]
  },
  {
   "cell_type": "code",
   "execution_count": null,
   "metadata": {
    "colab": {
     "base_uri": "https://localhost:8080/",
     "height": 124
    },
    "colab_type": "code",
    "id": "O7qDGH_x-gZ2",
    "outputId": "c49a879b-bf6f-4c1e-c500-096cea04327a"
   },
   "outputs": [],
   "source": [
    "model = CatBoostClassifier(subsample=0.6,\n",
    "                           custom_loss='Logloss',\n",
    "                           l2_leaf_reg = 10,\n",
    "                           random_strength = 0,\n",
    "                           max_depth=7,\n",
    "                           eval_metric=\"AUC\",\n",
    "                           learning_rate=0.03,\n",
    "                           iterations=60000,\n",
    "                           bootstrap_type='Bernoulli',\n",
    "                           task_type=\"GPU\",\n",
    "                           random_seed=42,\n",
    "                           od_type=\"Iter\")\n",
    "\n",
    "fit_model = model.fit(_train,verbose_eval=1000, early_stopping_rounds=100,eval_set=[_valid],use_best_model=True,plot=False)"
   ]
  },
  {
   "cell_type": "code",
   "execution_count": null,
   "metadata": {
    "colab": {},
    "colab_type": "code",
    "id": "qLbWXpZwAdV_"
   },
   "outputs": [],
   "source": [
    "# prediction\n",
    "y_pred = fit_model.predict_proba(cat_test)"
   ]
  },
  {
   "cell_type": "code",
   "execution_count": null,
   "metadata": {
    "colab": {
     "base_uri": "https://localhost:8080/",
     "height": 204
    },
    "colab_type": "code",
    "id": "EK0H-P2FA0dT",
    "outputId": "f45bf919-a043-4275-beea-cbf7a2030053"
   },
   "outputs": [],
   "source": [
    "final_catboost_pred = pd.DataFrame(y_pred)\n",
    "final_catboost_pred.head()"
   ]
  },
  {
   "cell_type": "code",
   "execution_count": null,
   "metadata": {
    "colab": {},
    "colab_type": "code",
    "id": "J_f8wd4UEAQU"
   },
   "outputs": [],
   "source": [
    "final_catboost_pred.to_csv('catboost_pred.csv')"
   ]
  },
  {
   "cell_type": "markdown",
   "metadata": {
    "colab_type": "text",
    "id": "odda95ve180n"
   },
   "source": [
    "*Test AUC - 0.740*"
   ]
  },
  {
   "cell_type": "markdown",
   "metadata": {
    "colab_type": "text",
    "id": "PRC8_Rcv_N7E"
   },
   "source": [
    "**Model Building - 6. H20.ai Auto ML, let's benchmark**"
   ]
  },
  {
   "cell_type": "code",
   "execution_count": null,
   "metadata": {
    "colab": {
     "base_uri": "https://localhost:8080/",
     "height": 1000
    },
    "colab_type": "code",
    "id": "K-2zIBcs_Nh_",
    "outputId": "be693c93-b7a2-495b-8f5f-e624f79ad82f"
   },
   "outputs": [],
   "source": [
    "# setting up the package\n",
    "\n",
    "!pip install requests\n",
    "!pip install tabulate\n",
    "!pip install \"colorama>=0.3.8\"\n",
    "!pip install future\n",
    "!pip install -f http://h2o-release.s3.amazonaws.com/h2o/latest_stable_Py.html h2o\n",
    "  \n",
    "import h2o\n",
    "from h2o.automl import H2OAutoML\n",
    "h2o.init()"
   ]
  },
  {
   "cell_type": "code",
   "execution_count": null,
   "metadata": {
    "colab": {},
    "colab_type": "code",
    "id": "HpOPNTyLFAFl"
   },
   "outputs": [],
   "source": [
    "train_h2o = train.copy()"
   ]
  },
  {
   "cell_type": "code",
   "execution_count": null,
   "metadata": {
    "colab": {},
    "colab_type": "code",
    "id": "WfguiB2IFHMv"
   },
   "outputs": [],
   "source": [
    "train_h2o['TARGET'] = y.copy()"
   ]
  },
  {
   "cell_type": "code",
   "execution_count": null,
   "metadata": {
    "colab": {
     "base_uri": "https://localhost:8080/",
     "height": 35
    },
    "colab_type": "code",
    "id": "A7GRYureIXBY",
    "outputId": "41ea6761-6994-480a-81d9-32478dcd58f3"
   },
   "outputs": [],
   "source": [
    "#train_h2o['TARGET'] = train_h2o['TARGET']_toframe.asfactor()\n",
    "train_h2o = h2o.H2OFrame(train_h2o)"
   ]
  },
  {
   "cell_type": "code",
   "execution_count": null,
   "metadata": {
    "colab": {},
    "colab_type": "code",
    "id": "foP3rkKEJKm6"
   },
   "outputs": [],
   "source": [
    "train_h2o['TARGET'] = train_h2o['TARGET'].asfactor()"
   ]
  },
  {
   "cell_type": "code",
   "execution_count": null,
   "metadata": {
    "colab": {},
    "colab_type": "code",
    "id": "Y13WAh3YAGOC"
   },
   "outputs": [],
   "source": [
    "h2o_automl = H2OAutoML(max_models = 2, max_runtime_secs=1500, seed = 1)\n"
   ]
  },
  {
   "cell_type": "code",
   "execution_count": null,
   "metadata": {
    "colab": {
     "base_uri": "https://localhost:8080/",
     "height": 35
    },
    "colab_type": "code",
    "id": "0pG1Vw69C8Kz",
    "outputId": "279d1ef3-ae0c-48ba-a01a-adf2cc3524fd"
   },
   "outputs": [],
   "source": [
    "h2o_automl.train(y = 'TARGET', training_frame = train_h2o)"
   ]
  },
  {
   "cell_type": "code",
   "execution_count": null,
   "metadata": {
    "colab": {
     "base_uri": "https://localhost:8080/",
     "height": 60
    },
    "colab_type": "code",
    "id": "HL5oL_LLAJ_1",
    "outputId": "06c44c1f-bf32-4e22-fc52-15dc9b2331ef"
   },
   "outputs": [],
   "source": [
    "h2o_leaderboard = h2o_automl.leaderboard\n",
    "h2o_leaderboard.head()\n",
    "h2o_leaderboard.head(rows=h2o_leaderboard.nrows) # Entire leaderboard"
   ]
  },
  {
   "cell_type": "code",
   "execution_count": null,
   "metadata": {
    "colab": {
     "base_uri": "https://localhost:8080/",
     "height": 35
    },
    "colab_type": "code",
    "id": "ONiWcD8EuQBU",
    "outputId": "45949c40-7a4f-4c6e-f8b0-52d250052120"
   },
   "outputs": [],
   "source": [
    "test_h2o = h2o.H2OFrame(test)"
   ]
  },
  {
   "cell_type": "code",
   "execution_count": null,
   "metadata": {
    "colab": {
     "base_uri": "https://localhost:8080/",
     "height": 35
    },
    "colab_type": "code",
    "id": "tCxWgqrtAONs",
    "outputId": "a8574c2c-fc14-42fb-cd5e-0c3cf0264dfe"
   },
   "outputs": [],
   "source": [
    "h20_prediction = h2o_automl.predict(test_h2o)"
   ]
  },
  {
   "cell_type": "code",
   "execution_count": null,
   "metadata": {
    "colab": {},
    "colab_type": "code",
    "id": "FxpYSJuzmVmm"
   },
   "outputs": [],
   "source": [
    "h20_prediction.as_data_frame(use_pandas=True).to_csv('h20_pred.csv')"
   ]
  },
  {
   "cell_type": "markdown",
   "metadata": {
    "colab_type": "text",
    "id": "uRrg-etQvFYA"
   },
   "source": [
    "*Test AUC - 0.737*"
   ]
  }
 ],
 "metadata": {
  "accelerator": "GPU",
  "colab": {
   "collapsed_sections": [],
   "machine_shape": "hm",
   "name": "Home_Credit_Default_Risk (4).ipynb",
   "provenance": []
  },
  "kernelspec": {
   "display_name": "Python 3",
   "language": "python",
   "name": "python3"
  },
  "language_info": {
   "codemirror_mode": {
    "name": "ipython",
    "version": 3
   },
   "file_extension": ".py",
   "mimetype": "text/x-python",
   "name": "python",
   "nbconvert_exporter": "python",
   "pygments_lexer": "ipython3",
   "version": "3.6.12"
  }
 },
 "nbformat": 4,
 "nbformat_minor": 1
}
